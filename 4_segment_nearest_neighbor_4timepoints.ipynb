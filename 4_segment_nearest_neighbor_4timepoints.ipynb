{
 "cells": [
  {
   "cell_type": "code",
   "execution_count": 3,
   "metadata": {},
   "outputs": [],
   "source": [
    "import numpy as np\n",
    "import operator\n",
    "import pickle\n",
    "from itertools import chain\n",
    "from scipy.spatial import KDTree\n",
    "from scipy.ndimage import label\n",
    "import tifffile"
   ]
  },
  {
   "cell_type": "code",
   "execution_count": 9,
   "metadata": {},
   "outputs": [],
   "source": [
    "def find_indices(array, condition=operator.eq, value=1):\n",
    "    # Return list of indices for cells meeting a logical condition\n",
    "    indices = np.argwhere(condition(array, value))\n",
    "    return [tuple(idx) for idx in indices]\n",
    "\n",
    "def assign_segments_to_indices(indices, segments):\n",
    "    # Flatten the segments list and create a mapping of coordinates to segment indices\n",
    "    flattened_segments = []\n",
    "    coord_to_segment = {}\n",
    "    \n",
    "    for segment_index, segment in enumerate(segments):\n",
    "        for coord in segment:\n",
    "            flattened_segments.append(coord)\n",
    "            coord_to_segment[tuple(coord)] = segment_index\n",
    "    \n",
    "    # Create a KDTree from the flattened segment coordinates\n",
    "    tree = KDTree(flattened_segments)\n",
    "    \n",
    "    # List to store the segment assignments\n",
    "    segment_assignments = []\n",
    "\n",
    "    # Enumerate through the list of indices\n",
    "    for idx in indices:\n",
    "        # Query the KDTree for the nearest segment to the current index\n",
    "        _, nearest_flattened_index = tree.query(idx)\n",
    "        \n",
    "        # Retrieve the segment index from the mapping\n",
    "        nearest_segment_index = coord_to_segment[tuple(flattened_segments[nearest_flattened_index])]\n",
    "        \n",
    "        # Append the segment index to the assignments list\n",
    "        segment_assignments.append(nearest_segment_index)\n",
    "\n",
    "    return segment_assignments\n",
    "\n",
    "def label_data_for_imagej_color(indices, segment_assignments, shape, num_segments):\n",
    "    # Create an empty array to hold the labeled data (3 channels for RGB)\n",
    "    labeled_array = np.zeros((*shape, 3), dtype=np.uint8)\n",
    "    \n",
    "    # Generate unique colors for each segment\n",
    "    np.random.seed(0)  # For reproducibility\n",
    "    colors = np.random.randint(0, 255, size=(num_segments, 3), dtype=np.uint8)\n",
    "    \n",
    "    # Assign colors to the corresponding coordinates\n",
    "    for coord, segment in zip(indices, segment_assignments):\n",
    "        labeled_array[coord[0], coord[1], coord[2]] = colors[segment]\n",
    "    \n",
    "    return labeled_array, colors"
   ]
  },
  {
   "cell_type": "code",
   "execution_count": 6,
   "metadata": {},
   "outputs": [],
   "source": [
    "segments = []\n",
    "timepoints = 4\n",
    "\n",
    "# Load list of outer+core segments\n",
    "for ii in range(timepoints):\n",
    "    with open(f'output/all_segments_{ii}.pkl', 'rb') as f:\n",
    "        segments.append(pickle.load(f))"
   ]
  },
  {
   "cell_type": "code",
   "execution_count": 10,
   "metadata": {},
   "outputs": [
    {
     "name": "stdout",
     "output_type": "stream",
     "text": [
      "timepoint 0 relevant voxels: 1554900\n",
      "timepoint 0 saved.\n",
      "timepoint 1 relevant voxels: 1363523\n",
      "timepoint 1 saved.\n",
      "timepoint 2 relevant voxels: 1326163\n",
      "timepoint 2 saved.\n",
      "timepoint 3 relevant voxels: 1215627\n",
      "timepoint 3 saved.\n"
     ]
    }
   ],
   "source": [
    "for ii in range(timepoints):\n",
    "    # Load preprocessed 3d data\n",
    "    data_3d = np.load(f'output/pvd_binary_{ii}.npy')\n",
    "\n",
    "    data_idx = find_indices(data_3d)\n",
    "    print(f\"timepoint {ii} relevant voxels: {len(data_idx)}\")\n",
    "\n",
    "    segment_assignments = assign_segments_to_indices(data_idx, segments[ii])\n",
    "\n",
    "    shape = data_3d.shape\n",
    "    num_segments = len(set(segment_assignments))+2\n",
    "    labeled_array_color, label_colors = label_data_for_imagej_color(data_idx, segment_assignments, shape, num_segments)\n",
    "\n",
    "    # Save the labeled array as a TIFF file\n",
    "    tifffile.imwrite(f'labeled_data_color_{ii}.tif', labeled_array_color)\n",
    "    print(f\"timepoint {ii} saved.\")"
   ]
  },
  {
   "cell_type": "code",
   "execution_count": 11,
   "metadata": {},
   "outputs": [
    {
     "name": "stdout",
     "output_type": "stream",
     "text": [
      "timepoint 0 relevant voxels: 1554900\n",
      "timepoint 0 saved.\n",
      "timepoint 1 relevant voxels: 1363523\n",
      "timepoint 1 saved.\n",
      "timepoint 2 relevant voxels: 1326163\n",
      "timepoint 2 saved.\n",
      "timepoint 3 relevant voxels: 1215627\n",
      "timepoint 3 saved.\n"
     ]
    }
   ],
   "source": [
    "matched_voxel_segments = []\n",
    "\n",
    "for ii in range(timepoints):\n",
    "    # Load preprocessed 3d data\n",
    "    data_3d = np.load(f'output/pvd_binary_{ii}.npy')\n",
    "\n",
    "    data_idx = find_indices(data_3d)\n",
    "    print(f\"timepoint {ii} relevant voxels: {len(data_idx)}\")\n",
    "\n",
    "    segment_assignments = assign_segments_to_indices(data_idx, segments[ii])\n",
    "\n",
    "    matched_voxel_segments.append(segment_assignments)\n",
    "\n",
    "    #shape = data_3d.shape\n",
    "    #num_segments = len(set(segment_assignments))+2\n",
    "    #labeled_array_color, label_colors = label_data_for_imagej_color(data_idx, segment_assignments, shape, num_segments)\n",
    "\n",
    "    # Save the labeled array as a TIFF file\n",
    "    #tifffile.imwrite(f'labeled_data_color_{ii}.tif', labeled_array_color)\n",
    "    print(f\"timepoint {ii} saved.\")"
   ]
  },
  {
   "cell_type": "code",
   "execution_count": 33,
   "metadata": {},
   "outputs": [],
   "source": [
    "data_3d = np.load(f'output/pvd_binary_{ii}.npy')\n",
    "data_idx = np.array(find_indices(data_3d))\n",
    "indices = data_idx[np.where(np.array(matched_voxel_segments[0]) == 25)]"
   ]
  },
  {
   "cell_type": "code",
   "execution_count": 27,
   "metadata": {},
   "outputs": [
    {
     "name": "stderr",
     "output_type": "stream",
     "text": [
      "C:\\Users\\hssla\\AppData\\Local\\Temp\\ipykernel_53792\\2468116125.py:1: DeprecationWarning: Calling nonzero on 0d arrays is deprecated, as it behaves surprisingly. Use `atleast_1d(cond).nonzero()` if the old behavior was intended. If the context of this warning is of the form `arr[nonzero(cond)]`, just use `arr[cond]`.\n",
      "  X = np.where(matched_voxel_segments[0] == 25)\n"
     ]
    }
   ],
   "source": [
    "X = np.where(matched_voxel_segments[0] == 25)"
   ]
  },
  {
   "cell_type": "code",
   "execution_count": 34,
   "metadata": {},
   "outputs": [
    {
     "data": {
      "text/plain": [
       "array([[   2, 1119,  832],\n",
       "       [   2, 1708,  720],\n",
       "       [   2, 1708,  724],\n",
       "       ...,\n",
       "       [  35, 1789,  540],\n",
       "       [  35, 1789,  541],\n",
       "       [  36, 1811,  523]], dtype=int64)"
      ]
     },
     "execution_count": 34,
     "metadata": {},
     "output_type": "execute_result"
    }
   ],
   "source": [
    "indices"
   ]
  },
  {
   "cell_type": "code",
   "execution_count": 43,
   "metadata": {},
   "outputs": [],
   "source": [
    "# Find the maximum value for each column\n",
    "indices_norm = indices / indices.max(axis=0)"
   ]
  },
  {
   "cell_type": "code",
   "execution_count": 48,
   "metadata": {},
   "outputs": [
    {
     "data": {
      "text/plain": [
       "array([  2, 232, 369], dtype=int64)"
      ]
     },
     "execution_count": 48,
     "metadata": {},
     "output_type": "execute_result"
    }
   ],
   "source": [
    "indices.min(axis=0)"
   ]
  },
  {
   "cell_type": "code",
   "execution_count": 47,
   "metadata": {},
   "outputs": [
    {
     "data": {
      "text/plain": [
       "array([[   0,  887,  463],\n",
       "       [   0, 1476,  351],\n",
       "       [   0, 1476,  355],\n",
       "       ...,\n",
       "       [  33, 1557,  171],\n",
       "       [  33, 1557,  172],\n",
       "       [  34, 1579,  154]], dtype=int64)"
      ]
     },
     "execution_count": 47,
     "metadata": {},
     "output_type": "execute_result"
    }
   ],
   "source": [
    "indices_norm = indices - indices.min(axis=0)\n",
    "indices_norm"
   ]
  },
  {
   "cell_type": "code",
   "execution_count": 57,
   "metadata": {},
   "outputs": [
    {
     "data": {
      "text/plain": [
       "34"
      ]
     },
     "execution_count": 57,
     "metadata": {},
     "output_type": "execute_result"
    }
   ],
   "source": [
    "new_shape = indices_norm.max(axis=0)\n",
    "new_shape[0]"
   ]
  },
  {
   "cell_type": "code",
   "execution_count": 61,
   "metadata": {},
   "outputs": [],
   "source": [
    "canvas = np.zeros([new_shape[0]+1, new_shape[1]+1, new_shape[2]+1])\n",
    "canvas.shape"
   ]
  },
  {
   "cell_type": "code",
   "execution_count": 68,
   "metadata": {},
   "outputs": [],
   "source": [
    "canvas[indices_norm[:, 0], indices_norm[:, 1], indices_norm[:, 2]] = 1"
   ]
  },
  {
   "cell_type": "code",
   "execution_count": 69,
   "metadata": {},
   "outputs": [
    {
     "data": {
      "text/plain": [
       "(35, 1773, 710)"
      ]
     },
     "execution_count": 69,
     "metadata": {},
     "output_type": "execute_result"
    }
   ],
   "source": [
    "canvas.shape"
   ]
  },
  {
   "cell_type": "code",
   "execution_count": 70,
   "metadata": {},
   "outputs": [],
   "source": [
    "tifffile.imwrite(f'segment_26_timepointX.tif', canvas)"
   ]
  }
 ],
 "metadata": {
  "kernelspec": {
   "display_name": "base",
   "language": "python",
   "name": "python3"
  },
  "language_info": {
   "codemirror_mode": {
    "name": "ipython",
    "version": 3
   },
   "file_extension": ".py",
   "mimetype": "text/x-python",
   "name": "python",
   "nbconvert_exporter": "python",
   "pygments_lexer": "ipython3",
   "version": "3.11.4"
  }
 },
 "nbformat": 4,
 "nbformat_minor": 2
}
