{
 "cells": [
  {
   "cell_type": "code",
   "execution_count": 246,
   "metadata": {},
   "outputs": [],
   "source": [
    "import cv2\n",
    "import numpy as np\n",
    "import matplotlib.pyplot as plt"
   ]
  },
  {
   "cell_type": "code",
   "execution_count": 247,
   "metadata": {},
   "outputs": [],
   "source": [
    "window = 5\n",
    "radius = -(-window//2)"
   ]
  },
  {
   "cell_type": "code",
   "execution_count": 248,
   "metadata": {},
   "outputs": [],
   "source": [
    "def rotate_point(origin, point, angle):\n",
    "\n",
    "    ox, oy = origin\n",
    "    px, py = point\n",
    "\n",
    "    qx = ox + np.cos(angle) * (px - ox) - np.sin(angle) * (py - oy)\n",
    "    qy = oy + np.sin(angle) * (px - ox) + np.cos(angle) * (py - oy)\n",
    "\n",
    "    return int(qx), int(qy)\n",
    "\n",
    "# Node detection kernel, generates feature to detect inside sliding window\n",
    "def node_detect(win, feature, angle=0, thickness=1):\n",
    "\n",
    "    # Check that feature is correctly specified\n",
    "    assert feature in (\"cross\", \"tee\", \"elbow\", \"end\"), \"Feature must be one of 'cross', 'tee', 'elbow', or 'end'.\"\n",
    "\n",
    "    # Convert angle to radians\n",
    "    angle = np.deg2rad(angle)\n",
    "    \n",
    "    # Create kernel matrix \n",
    "    kernel = np.zeros((win, win), np.uint8)\n",
    "\n",
    "    center = win // 2\n",
    "    origin = (center, center)\n",
    "\n",
    "    # Top\n",
    "    if feature in (\"cross\", \"tee\", \"end\"):\n",
    "        endpoint = rotate_point(origin, (center, 0), angle)\n",
    "        cv2.line(kernel, origin, endpoint, (1, 1, 1), thickness)\n",
    "    # Bottom\n",
    "    if feature == \"cross\":\n",
    "        endpoint = rotate_point(origin, (center, win), angle)\n",
    "        cv2.line(kernel, origin, endpoint, (1, 1, 1), thickness)\n",
    "    # Left \n",
    "    if feature in (\"cross\", \"tee\"):\n",
    "        endpoint = rotate_point(origin, (0, center), angle)\n",
    "        cv2.line(kernel, origin, endpoint, (1, 1, 1), thickness)\n",
    "    # Right \n",
    "    if feature in (\"cross\", \"tee\", \"elbow\"):\n",
    "        endpoint = rotate_point(origin, (win, center), angle)\n",
    "        cv2.line(kernel, origin, endpoint, (1, 1, 1), thickness)\n",
    "\n",
    "    return kernel"
   ]
  },
  {
   "cell_type": "code",
   "execution_count": 249,
   "metadata": {},
   "outputs": [],
   "source": [
    "kernel = node_detect(window, feature=\"tee\", angle=35)\n",
    "kernel2 = node_detect(window, feature=\"tee\", angle=35, thickness=2)"
   ]
  },
  {
   "cell_type": "code",
   "execution_count": 250,
   "metadata": {},
   "outputs": [
    {
     "data": {
      "text/plain": [
       "<matplotlib.image.AxesImage at 0x15388f4c5d0>"
      ]
     },
     "execution_count": 250,
     "metadata": {},
     "output_type": "execute_result"
    },
    {
     "data": {
      "image/png": "[encoded data removed]",
      "text/plain": [
       "<Figure size 500x500 with 1 Axes>"
      ]
     },
     "metadata": {},
     "output_type": "display_data"
    }
   ],
   "source": [
    "fig, ax = plt.subplots(figsize=(5, 5))\n",
    "ax.imshow(kernel, cmap='gray')"
   ]
  },
  {
   "cell_type": "code",
   "execution_count": 251,
   "metadata": {},
   "outputs": [
    {
     "data": {
      "text/plain": [
       "<matplotlib.image.AxesImage at 0x15388ff1390>"
      ]
     },
     "execution_count": 251,
     "metadata": {},
     "output_type": "execute_result"
    },
    {
     "data": {
      "image/png": "[encoded data removed]",
      "text/plain": [
       "<Figure size 500x500 with 1 Axes>"
      ]
     },
     "metadata": {},
     "output_type": "display_data"
    }
   ],
   "source": [
    "fig, ax = plt.subplots(figsize=(5, 5))\n",
    "ax.imshow(kernel-kernel2, cmap='gray')"
   ]
  },
  {
   "cell_type": "code",
   "execution_count": 264,
   "metadata": {},
   "outputs": [
    {
     "data": {
      "text/plain": [
       "array([[  0, 255, 255,   0, 255],\n",
       "       [255,   0,   0, 255,   0],\n",
       "       [255, 255,   0,   0, 255],\n",
       "       [  0, 255, 255, 255,   0],\n",
       "       [  0,   0,   0,   0, 255]], dtype=uint8)"
      ]
     },
     "execution_count": 264,
     "metadata": {},
     "output_type": "execute_result"
    }
   ],
   "source": [
    "kernel-kernel2"
   ]
  },
  {
   "cell_type": "code",
   "execution_count": 253,
   "metadata": {},
   "outputs": [
    {
     "data": {
      "text/plain": [
       "True"
      ]
     },
     "execution_count": 253,
     "metadata": {},
     "output_type": "execute_result"
    }
   ],
   "source": [
    "\n",
    "np.array_equal(kernel*kernel2, kernel)"
   ]
  },
  {
   "cell_type": "code",
   "execution_count": 254,
   "metadata": {},
   "outputs": [
    {
     "data": {
      "text/plain": [
       "1"
      ]
     },
     "execution_count": 254,
     "metadata": {},
     "output_type": "execute_result"
    }
   ],
   "source": [
    "np.max(kernel)"
   ]
  }
 ],
 "metadata": {
  "kernelspec": {
   "display_name": "base",
   "language": "python",
   "name": "python3"
  },
  "language_info": {
   "codemirror_mode": {
    "name": "ipython",
    "version": 3
   },
   "file_extension": ".py",
   "mimetype": "text/x-python",
   "name": "python",
   "nbconvert_exporter": "python",
   "pygments_lexer": "ipython3",
   "version": "3.11.4"
  }
 },
 "nbformat": 4,
 "nbformat_minor": 2
}
