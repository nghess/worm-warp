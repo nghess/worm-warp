{
 "cells": [
  {
   "cell_type": "code",
   "execution_count": 172,
   "metadata": {},
   "outputs": [],
   "source": [
    "import cv2\n",
    "import numpy as np\n",
    "import matplotlib.pyplot as plt"
   ]
  },
  {
   "cell_type": "code",
   "execution_count": 173,
   "metadata": {},
   "outputs": [],
   "source": [
    "def rotate_point(origin, point, angle):\n",
    "\n",
    "    ox, oy = origin\n",
    "    px, py = point\n",
    "\n",
    "    qx = ox + np.cos(angle) * (px - ox) - np.sin(angle) * (py - oy)\n",
    "    qy = oy + np.sin(angle) * (px - ox) + np.cos(angle) * (py - oy)\n",
    "\n",
    "    return int(qx), int(qy)\n",
    "\n",
    "# Node detection kernel, generates feature to detect inside sliding window\n",
    "def node_detect(win, feature, angle=0, thickness=1):\n",
    "\n",
    "    # Check that feature is correctly specified\n",
    "    assert feature in (\"cross\", \"tee\", \"elbow\", \"end\"), \"Feature must be one of 'cross', 'tee', 'elbow', or 'end'.\"\n",
    "\n",
    "    # Convert angle to radians\n",
    "    angle = np.deg2rad(angle)\n",
    "    \n",
    "    # Create kernel matrix, if end feature is selected, generate end-detector mask\n",
    "    kernel = np.zeros((win, win), np.uint8)\n",
    "    if feature == \"end\":\n",
    "        end_mask = np.zeros((win, win), np.uint8)\n",
    "\n",
    "    # Define center of kernel\n",
    "    center = win // 2\n",
    "    origin = (center, center)\n",
    "\n",
    "    # Draw Top\n",
    "    if feature in (\"cross\", \"tee\", \"end\"):\n",
    "        endpoint = rotate_point(origin, (center, 1), angle)\n",
    "        cv2.line(kernel, origin, endpoint, (1, 1, 1), thickness)\n",
    "    # Draw Bottom\n",
    "    if feature == \"cross\":\n",
    "        endpoint = rotate_point(origin, (center, win-1), angle)\n",
    "        cv2.line(kernel, origin, endpoint, (1, 1, 1), thickness)\n",
    "    # Draw Left \n",
    "    if feature in (\"cross\", \"tee\"):\n",
    "        endpoint = rotate_point(origin, (1, center), angle)\n",
    "        cv2.line(kernel, origin, endpoint, (1, 1, 1), thickness)\n",
    "    # Draw Right \n",
    "    if feature in (\"cross\", \"tee\", \"elbow\"):\n",
    "        endpoint = rotate_point(origin, (win-1, center), angle)\n",
    "        cv2.line(kernel, origin, endpoint, (1, 1, 1), thickness)\n",
    "    # Draw end mask, if applicable\n",
    "    if feature == \"end\":\n",
    "        endpoint = rotate_point(origin, (center, win-1), angle)\n",
    "        cv2.line(end_mask, endpoint, endpoint, (1, 1, 1), thickness)\n",
    "        \n",
    "    if feature == \"end\":\n",
    "        return kernel, end_mask\n",
    "    else:\n",
    "        return kernel"
   ]
  },
  {
   "cell_type": "code",
   "execution_count": 174,
   "metadata": {},
   "outputs": [],
   "source": [
    "window = 16\n",
    "radius = -(-window//2)"
   ]
  },
  {
   "cell_type": "code",
   "execution_count": 175,
   "metadata": {},
   "outputs": [],
   "source": [
    "kernel, end_mask = node_detect(window, feature=\"end\", angle=0)\n",
    "#kernel2 = node_detect(window, feature=\"end\", angle=35, thickness=2)"
   ]
  },
  {
   "cell_type": "code",
   "execution_count": 176,
   "metadata": {},
   "outputs": [
    {
     "data": {
      "text/plain": [
       "<matplotlib.image.AxesImage at 0x1f27fc216d0>"
      ]
     },
     "execution_count": 176,
     "metadata": {},
     "output_type": "execute_result"
    },
    {
     "data": {
      "image/png": "[encoded data removed]",
      "text/plain": [
       "<Figure size 500x500 with 1 Axes>"
      ]
     },
     "metadata": {},
     "output_type": "display_data"
    }
   ],
   "source": [
    "fig, ax = plt.subplots(figsize=(5, 5))\n",
    "ax.imshow(end_mask, cmap='gray')"
   ]
  },
  {
   "cell_type": "code",
   "execution_count": 177,
   "metadata": {},
   "outputs": [],
   "source": [
    "# flip_kernel = kernel"
   ]
  },
  {
   "cell_type": "code",
   "execution_count": 178,
   "metadata": {},
   "outputs": [
    {
     "data": {
      "text/plain": [
       "<matplotlib.image.AxesImage at 0x1f27fee94d0>"
      ]
     },
     "execution_count": 178,
     "metadata": {},
     "output_type": "execute_result"
    },
    {
     "data": {
      "image/png": "[encoded data removed]",
      "text/plain": [
       "<Figure size 500x500 with 1 Axes>"
      ]
     },
     "metadata": {},
     "output_type": "display_data"
    }
   ],
   "source": [
    "fig, ax = plt.subplots(figsize=(5, 5))\n",
    "ax.imshow(kernel.astype(np.int16)+end_mask.astype(np.int16), cmap='gray')"
   ]
  },
  {
   "cell_type": "code",
   "execution_count": 179,
   "metadata": {},
   "outputs": [
    {
     "data": {
      "text/plain": [
       "False"
      ]
     },
     "execution_count": 179,
     "metadata": {},
     "output_type": "execute_result"
    }
   ],
   "source": [
    "\n",
    "np.array_equal(kernel*kernel2, kernel)"
   ]
  },
  {
   "cell_type": "code",
   "execution_count": 180,
   "metadata": {},
   "outputs": [],
   "source": [
    "a = 5\n",
    "b = a"
   ]
  },
  {
   "cell_type": "code",
   "execution_count": 181,
   "metadata": {},
   "outputs": [
    {
     "data": {
      "text/plain": [
       "5"
      ]
     },
     "execution_count": 181,
     "metadata": {},
     "output_type": "execute_result"
    }
   ],
   "source": [
    "b"
   ]
  },
  {
   "cell_type": "code",
   "execution_count": 182,
   "metadata": {},
   "outputs": [
    {
     "data": {
      "text/plain": [
       "5"
      ]
     },
     "execution_count": 182,
     "metadata": {},
     "output_type": "execute_result"
    }
   ],
   "source": [
    "a"
   ]
  }
 ],
 "metadata": {
  "kernelspec": {
   "display_name": "base",
   "language": "python",
   "name": "python3"
  },
  "language_info": {
   "codemirror_mode": {
    "name": "ipython",
    "version": 3
   },
   "file_extension": ".py",
   "mimetype": "text/x-python",
   "name": "python",
   "nbconvert_exporter": "python",
   "pygments_lexer": "ipython3",
   "version": "3.11.4"
  }
 },
 "nbformat": 4,
 "nbformat_minor": 2
}
