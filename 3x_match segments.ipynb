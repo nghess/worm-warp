{
 "cells": [
  {
   "cell_type": "code",
   "execution_count": 124,
   "metadata": {},
   "outputs": [],
   "source": [
    "import numpy as np\n",
    "import operator\n",
    "import pickle\n",
    "from scipy.spatial import KDTree\n",
    "import tifffile"
   ]
  },
  {
   "cell_type": "code",
   "execution_count": 125,
   "metadata": {},
   "outputs": [
    {
     "name": "stdout",
     "output_type": "stream",
     "text": [
      "Number of outer segments in T0: 74\n",
      "Number of outer segments in T1: 66\n",
      "Number of outer segments in T2: 52\n",
      "Number of outer segments in T3: 76\n"
     ]
    }
   ],
   "source": [
    "# Load list of outer+core segments\n",
    "segments = []\n",
    "timepoints = [0,1,2,3]\n",
    "\n",
    "for timepoint in timepoints:\n",
    "    with open(f'output/outer_segments_{timepoint}.pkl', 'rb') as f:\n",
    "        segments.append(pickle.load(f))\n",
    "    print(f\"Number of outer segments in T{timepoint}: {len(segments[timepoint])}\")"
   ]
  },
  {
   "cell_type": "code",
   "execution_count": 126,
   "metadata": {},
   "outputs": [],
   "source": [
    "import numpy as np\n",
    "from fastdtw import fastdtw\n",
    "from scipy.spatial.distance import euclidean\n",
    "\n",
    "# Example segments\n",
    "segments_0 = segments[0]\n",
    "segments_1 = segments[1]\n",
    "segments_2 = segments[2]\n",
    "segments_3 = segments[3]"
   ]
  },
  {
   "cell_type": "code",
   "execution_count": 127,
   "metadata": {},
   "outputs": [
    {
     "name": "stdout",
     "output_type": "stream",
     "text": [
      "74\n",
      "66\n",
      "52\n",
      "76\n"
     ]
    }
   ],
   "source": [
    "print(len(segments_0))\n",
    "print(len(segments_1))\n",
    "print(len(segments_2))\n",
    "print(len(segments_3))"
   ]
  },
  {
   "cell_type": "code",
   "execution_count": 128,
   "metadata": {},
   "outputs": [],
   "source": [
    "segments_0_ends = []\n",
    "segments_1_ends = []\n",
    "segments_2_ends = []\n",
    "segments_3_ends = []\n",
    "\n",
    "for segment in segments_0:\n",
    "    segment = [segment[0], segment[-1]]\n",
    "    segments_0_ends.append(segment)\n",
    "\n",
    "for segment in segments_1:\n",
    "    segment = [segment[0], segment[-1]]\n",
    "    segments_1_ends.append(segment)\n",
    "\n",
    "for segment in segments_2:\n",
    "    segment = [segment[0], segment[-1]]\n",
    "    segments_2_ends.append(segment)\n",
    "\n",
    "for segment in segments_3:\n",
    "    segment = [segment[0], segment[-1]]\n",
    "    segments_3_ends.append(segment)"
   ]
  },
  {
   "cell_type": "code",
   "execution_count": 133,
   "metadata": {},
   "outputs": [
    {
     "name": "stdout",
     "output_type": "stream",
     "text": [
      "Best matches at indices: (62, 50, 74)\n",
      "Distances: (61679.72859467454, 64170.1844208672, 60884.17945236171)\n"
     ]
    }
   ],
   "source": [
    "import numpy as np\n",
    "from fastdtw import fastdtw\n",
    "from scipy.spatial.distance import euclidean\n",
    "import faiss\n",
    "import concurrent.futures\n",
    "\n",
    "def preprocess_segment(segment, max_length):\n",
    "    \"\"\"\n",
    "    Flatten and pad/truncate a segment to a fixed length.\n",
    "    \"\"\"\n",
    "    flat_segment = np.array(segment).flatten()\n",
    "    if len(flat_segment) < max_length:\n",
    "        # Pad with zeros if the segment is too short\n",
    "        flat_segment = np.pad(flat_segment, (0, max_length - len(flat_segment)), 'constant')\n",
    "    else:\n",
    "        # Truncate if the segment is too long\n",
    "        flat_segment = flat_segment[:max_length]\n",
    "    return flat_segment\n",
    "\n",
    "def build_faiss_index(segments, max_length):\n",
    "    \"\"\"\n",
    "    Build a FAISS index for the given segments.\n",
    "    \"\"\"\n",
    "    dim = max_length\n",
    "    index = faiss.IndexFlatL2(dim)\n",
    "    vectors = np.array([preprocess_segment(seg, max_length) for seg in segments])\n",
    "    index.add(vectors)\n",
    "    return index, vectors\n",
    "\n",
    "def compute_dtw_distance(seg1, seg2):\n",
    "    \"\"\"\n",
    "    Compute the DTW distance between two segments.\n",
    "    \"\"\"\n",
    "    distance, _ = fastdtw(seg1, seg2, dist=euclidean)\n",
    "    return distance\n",
    "\n",
    "def find_best_match_faiss(segment, indices, vectors, max_length, top_k=5):\n",
    "    \"\"\"\n",
    "    Find the best match for the given segment using FAISS and then refine using DTW.\n",
    "    \"\"\"\n",
    "    query_vector = preprocess_segment(segment, max_length).reshape(1, -1)\n",
    "    D, I = indices.search(query_vector, top_k)  # D is the distances, I is the indices\n",
    "    \n",
    "    min_distance = float('inf')\n",
    "    best_index = -1\n",
    "\n",
    "    for idx in I[0]:\n",
    "        candidate_segment = vectors[idx].reshape(-1, 3)\n",
    "        dist = compute_dtw_distance(segment, candidate_segment)\n",
    "        if dist < min_distance:\n",
    "            min_distance = dist\n",
    "            best_index = idx\n",
    "\n",
    "    return best_index, min_distance\n",
    "\n",
    "def best_match(segment, timepoint1_segments, timepoint2_segments, timepoint3_segments):\n",
    "    # Determine the maximum length for padding/truncation\n",
    "    max_length = max(\n",
    "        max(len(np.array(seg).flatten()) for seg in timepoint1_segments),\n",
    "        max(len(np.array(seg).flatten()) for seg in timepoint2_segments),\n",
    "        max(len(np.array(seg).flatten()) for seg in timepoint3_segments)\n",
    "    )\n",
    "\n",
    "    # Build FAISS indices\n",
    "    index1, vectors1 = build_faiss_index(timepoint1_segments, max_length)\n",
    "    index2, vectors2 = build_faiss_index(timepoint2_segments, max_length)\n",
    "    index3, vectors3 = build_faiss_index(timepoint3_segments, max_length)\n",
    "\n",
    "    # Find best matches using FAISS and then refine using DTW\n",
    "    best_match_1, best_match_1_dist = find_best_match_faiss(segment, index1, vectors1, max_length)\n",
    "    best_match_2, best_match_2_dist = find_best_match_faiss(segment, index2, vectors2, max_length)\n",
    "    best_match_3, best_match_3_dist = find_best_match_faiss(segment, index3, vectors3, max_length)\n",
    "    \n",
    "    return (best_match_1, best_match_2, best_match_3), (best_match_1_dist, best_match_2_dist, best_match_3_dist)\n",
    "\n",
    "# Example usage\n",
    "segment_of_interest = segments_0[71]\n",
    "timepoint1_segments = segments_1\n",
    "timepoint2_segments = segments_2\n",
    "timepoint3_segments = segments_3\n",
    "\n",
    "best_indices, distances = best_match(segment_of_interest, timepoint1_segments, timepoint2_segments, timepoint3_segments)\n",
    "print(f\"Best matches at indices: {best_indices}\")\n",
    "print(f\"Distances: {distances}\")\n"
   ]
  },
  {
   "cell_type": "code",
   "execution_count": null,
   "metadata": {},
   "outputs": [],
   "source": []
  },
  {
   "cell_type": "code",
   "execution_count": 130,
   "metadata": {},
   "outputs": [],
   "source": [
    "segment_matches = []\n",
    "segment_distances = []\n",
    "\n",
    "for segment in segments_0:\n",
    "    best_indices, distances = best_match(segment, timepoint1_segments, timepoint2_segments, timepoint3_segments)\n",
    "    segment_matches.append(best_indices)\n",
    "    segment_distances.append(distances)"
   ]
  },
  {
   "cell_type": "code",
   "execution_count": 131,
   "metadata": {},
   "outputs": [
    {
     "data": {
      "text/plain": [
       "74"
      ]
     },
     "execution_count": 131,
     "metadata": {},
     "output_type": "execute_result"
    }
   ],
   "source": [
    "len(segment_matches)"
   ]
  },
  {
   "cell_type": "code",
   "execution_count": 132,
   "metadata": {},
   "outputs": [
    {
     "ename": "IndexError",
     "evalue": "list index out of range",
     "output_type": "error",
     "traceback": [
      "\u001b[1;31m---------------------------------------------------------------------------\u001b[0m",
      "\u001b[1;31mIndexError\u001b[0m                                Traceback (most recent call last)",
      "Cell \u001b[1;32mIn[132], line 1\u001b[0m\n\u001b[1;32m----> 1\u001b[0m \u001b[38;5;28mprint\u001b[39m(segment_matches[\u001b[38;5;241m107\u001b[39m])\n\u001b[0;32m      2\u001b[0m \u001b[38;5;28mprint\u001b[39m(segment_distances[\u001b[38;5;241m107\u001b[39m])\n",
      "\u001b[1;31mIndexError\u001b[0m: list index out of range"
     ]
    }
   ],
   "source": [
    "print(segment_matches[107])\n",
    "print(segment_distances[107])"
   ]
  }
 ],
 "metadata": {
  "kernelspec": {
   "display_name": "base",
   "language": "python",
   "name": "python3"
  },
  "language_info": {
   "codemirror_mode": {
    "name": "ipython",
    "version": 3
   },
   "file_extension": ".py",
   "mimetype": "text/x-python",
   "name": "python",
   "nbconvert_exporter": "python",
   "pygments_lexer": "ipython3",
   "version": "3.11.4"
  }
 },
 "nbformat": 4,
 "nbformat_minor": 2
}
