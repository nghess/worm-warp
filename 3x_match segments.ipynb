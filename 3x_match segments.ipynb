{
 "cells": [
  {
   "cell_type": "code",
   "execution_count": 94,
   "metadata": {},
   "outputs": [],
   "source": [
    "import numpy as np\n",
    "import operator\n",
    "import pickle\n",
    "from scipy.spatial import KDTree\n",
    "import tifffile"
   ]
  },
  {
   "cell_type": "code",
   "execution_count": 95,
   "metadata": {},
   "outputs": [
    {
     "name": "stdout",
     "output_type": "stream",
     "text": [
      "Number of outer segments in T0: 74\n",
      "Number of outer segments in T1: 66\n",
      "Number of outer segments in T2: 52\n",
      "Number of outer segments in T3: 76\n"
     ]
    }
   ],
   "source": [
    "# Load list of outer+core segments\n",
    "segments = []\n",
    "timepoints = [0,1,2,3]\n",
    "\n",
    "for timepoint in timepoints:\n",
    "    with open(f'output/outer_segments_{timepoint}.pkl', 'rb') as f:\n",
    "        segments.append(pickle.load(f))\n",
    "    print(f\"Number of outer segments in T{timepoint}: {len(segments[timepoint])}\")"
   ]
  },
  {
   "cell_type": "code",
   "execution_count": 96,
   "metadata": {},
   "outputs": [],
   "source": [
    "import numpy as np\n",
    "from fastdtw import fastdtw\n",
    "from scipy.spatial.distance import euclidean\n",
    "\n",
    "# Example segments\n",
    "segments_0 = segments[0]\n",
    "segments_1 = segments[1]\n",
    "segments_2 = segments[2]\n",
    "segments_3 = segments[3]"
   ]
  },
  {
   "cell_type": "code",
   "execution_count": 97,
   "metadata": {},
   "outputs": [
    {
     "name": "stdout",
     "output_type": "stream",
     "text": [
      "74\n",
      "66\n",
      "52\n",
      "76\n"
     ]
    }
   ],
   "source": [
    "print(len(segments_0))\n",
    "print(len(segments_1))\n",
    "print(len(segments_2))\n",
    "print(len(segments_3))"
   ]
  },
  {
   "cell_type": "code",
   "execution_count": 102,
   "metadata": {},
   "outputs": [],
   "source": [
    "for ii, segment in enumerate(segments_0):\n",
    "    segments_0[ii] = [segment[0], segment[-1]]\n",
    "\n",
    "for ii, segment in enumerate(segments_1):\n",
    "    segments_0[ii] = [segment[0], segment[-1]]\n",
    "\n",
    "for ii, segment in enumerate(segments_2):\n",
    "    segments_0[ii] = [segment[0], segment[-1]]\n",
    "\n",
    "for ii, segment in enumerate(segments_3):\n",
    "    segments_0[ii] = [segment[0], segment[-1]]"
   ]
  },
  {
   "cell_type": "code",
   "execution_count": 104,
   "metadata": {},
   "outputs": [
    {
     "name": "stdout",
     "output_type": "stream",
     "text": [
      "Best matches at indices: (60, 3, 3)\n",
      "Distances: (183869.2731404148, 171943.429294329, 179431.74996881932)\n"
     ]
    }
   ],
   "source": [
    "import numpy as np\n",
    "from fastdtw import fastdtw\n",
    "from scipy.spatial.distance import euclidean\n",
    "import faiss\n",
    "import concurrent.futures\n",
    "\n",
    "def preprocess_segment(segment, max_length):\n",
    "    \"\"\"\n",
    "    Flatten and pad/truncate a segment to a fixed length.\n",
    "    \"\"\"\n",
    "    flat_segment = np.array(segment).flatten()\n",
    "    if len(flat_segment) < max_length:\n",
    "        # Pad with zeros if the segment is too short\n",
    "        flat_segment = np.pad(flat_segment, (0, max_length - len(flat_segment)), 'constant')\n",
    "    else:\n",
    "        # Truncate if the segment is too long\n",
    "        flat_segment = flat_segment[:max_length]\n",
    "    return flat_segment\n",
    "\n",
    "def build_faiss_index(segments, max_length):\n",
    "    \"\"\"\n",
    "    Build a FAISS index for the given segments.\n",
    "    \"\"\"\n",
    "    dim = max_length\n",
    "    index = faiss.IndexFlatL2(dim)\n",
    "    vectors = np.array([preprocess_segment(seg, max_length) for seg in segments])\n",
    "    index.add(vectors)\n",
    "    return index, vectors\n",
    "\n",
    "def compute_dtw_distance(seg1, seg2):\n",
    "    \"\"\"\n",
    "    Compute the DTW distance between two segments.\n",
    "    \"\"\"\n",
    "    distance, _ = fastdtw(seg1, seg2, dist=euclidean)\n",
    "    return distance\n",
    "\n",
    "def find_best_match_faiss(segment, indices, vectors, max_length, top_k=5):\n",
    "    \"\"\"\n",
    "    Find the best match for the given segment using FAISS and then refine using DTW.\n",
    "    \"\"\"\n",
    "    query_vector = preprocess_segment(segment, max_length).reshape(1, -1)\n",
    "    D, I = indices.search(query_vector, top_k)  # D is the distances, I is the indices\n",
    "    \n",
    "    min_distance = float('inf')\n",
    "    best_index = -1\n",
    "\n",
    "    for idx in I[0]:\n",
    "        candidate_segment = vectors[idx].reshape(-1, 3)\n",
    "        dist = compute_dtw_distance(segment, candidate_segment)\n",
    "        if dist < min_distance:\n",
    "            min_distance = dist\n",
    "            best_index = idx\n",
    "\n",
    "    return best_index, min_distance\n",
    "\n",
    "def best_match(segment, timepoint1_segments, timepoint2_segments, timepoint3_segments):\n",
    "    # Determine the maximum length for padding/truncation\n",
    "    max_length = max(\n",
    "        max(len(np.array(seg).flatten()) for seg in timepoint1_segments),\n",
    "        max(len(np.array(seg).flatten()) for seg in timepoint2_segments),\n",
    "        max(len(np.array(seg).flatten()) for seg in timepoint3_segments)\n",
    "    )\n",
    "\n",
    "    # Build FAISS indices\n",
    "    index1, vectors1 = build_faiss_index(timepoint1_segments, max_length)\n",
    "    index2, vectors2 = build_faiss_index(timepoint2_segments, max_length)\n",
    "    index3, vectors3 = build_faiss_index(timepoint3_segments, max_length)\n",
    "\n",
    "    # Find best matches using FAISS and then refine using DTW\n",
    "    best_match_1, best_match_1_dist = find_best_match_faiss(segment, index1, vectors1, max_length)\n",
    "    best_match_2, best_match_2_dist = find_best_match_faiss(segment, index2, vectors2, max_length)\n",
    "    best_match_3, best_match_3_dist = find_best_match_faiss(segment, index3, vectors3, max_length)\n",
    "    \n",
    "    return (best_match_1, best_match_2, best_match_3), (best_match_1_dist, best_match_2_dist, best_match_3_dist)\n",
    "\n",
    "# Example usage\n",
    "segment_of_interest = segments_0[69]\n",
    "timepoint1_segments = segments_1\n",
    "timepoint2_segments = segments_2\n",
    "timepoint3_segments = segments_3\n",
    "\n",
    "best_indices, distances = best_match(segment_of_interest, timepoint1_segments, timepoint2_segments, timepoint3_segments)\n",
    "print(f\"Best matches at indices: {best_indices}\")\n",
    "print(f\"Distances: {distances}\")\n"
   ]
  },
  {
   "cell_type": "code",
   "execution_count": 106,
   "metadata": {},
   "outputs": [
    {
     "data": {
      "text/plain": [
       "[(41, 1878, 330),\n",
       " (40, 1878, 330),\n",
       " (39, 1879, 330),\n",
       " (38, 1879, 330),\n",
       " (37, 1880, 330),\n",
       " (36, 1881, 330),\n",
       " (36, 1882, 331),\n",
       " (35, 1883, 331),\n",
       " (34, 1883, 331),\n",
       " (33, 1884, 332),\n",
       " (32, 1885, 332),\n",
       " (32, 1886, 332),\n",
       " (31, 1887, 333),\n",
       " (30, 1888, 334),\n",
       " (29, 1889, 335),\n",
       " (28, 1890, 335),\n",
       " (27, 1891, 336),\n",
       " (26, 1892, 337),\n",
       " (25, 1892, 337),\n",
       " (24, 1893, 338),\n",
       " (23, 1894, 339),\n",
       " (22, 1895, 340),\n",
       " (21, 1895, 341),\n",
       " (22, 1895, 342),\n",
       " (22, 1896, 343),\n",
       " (21, 1896, 344),\n",
       " (21, 1896, 345),\n",
       " (20, 1897, 346),\n",
       " (20, 1897, 347),\n",
       " (19, 1897, 348),\n",
       " (18, 1897, 349),\n",
       " (17, 1898, 350),\n",
       " (17, 1899, 351),\n",
       " (17, 1900, 351),\n",
       " (17, 1901, 351),\n",
       " (16, 1902, 352),\n",
       " (16, 1903, 352),\n",
       " (16, 1904, 353),\n",
       " (17, 1905, 353),\n",
       " (16, 1906, 354),\n",
       " (16, 1907, 355),\n",
       " (16, 1908, 356),\n",
       " (15, 1909, 357),\n",
       " (15, 1910, 358),\n",
       " (15, 1911, 359),\n",
       " (15, 1912, 360),\n",
       " (14, 1913, 361),\n",
       " (14, 1914, 362),\n",
       " (15, 1915, 363),\n",
       " (14, 1916, 363)]"
      ]
     },
     "execution_count": 106,
     "metadata": {},
     "output_type": "execute_result"
    }
   ],
   "source": []
  },
  {
   "cell_type": "code",
   "execution_count": 105,
   "metadata": {},
   "outputs": [],
   "source": [
    "segment_matches = []\n",
    "segment_distances = []\n",
    "\n",
    "for segment in segments_0:\n",
    "    best_indices, distances = best_match(segment, timepoint1_segments, timepoint2_segments, timepoint3_segments)\n",
    "    segment_matches.append(best_indices)\n",
    "    segment_distances.append(distances)"
   ]
  },
  {
   "cell_type": "code",
   "execution_count": null,
   "metadata": {},
   "outputs": [
    {
     "data": {
      "text/plain": [
       "128"
      ]
     },
     "execution_count": 87,
     "metadata": {},
     "output_type": "execute_result"
    }
   ],
   "source": [
    "len(segment_matches)"
   ]
  },
  {
   "cell_type": "code",
   "execution_count": null,
   "metadata": {},
   "outputs": [
    {
     "name": "stdout",
     "output_type": "stream",
     "text": [
      "(12, 63, 94)\n",
      "(114165.78638000772, 82877.88480548709, 90211.96674836747)\n"
     ]
    }
   ],
   "source": [
    "print(segment_matches[107])\n",
    "print(segment_distances[107])"
   ]
  }
 ],
 "metadata": {
  "kernelspec": {
   "display_name": "base",
   "language": "python",
   "name": "python3"
  },
  "language_info": {
   "codemirror_mode": {
    "name": "ipython",
    "version": 3
   },
   "file_extension": ".py",
   "mimetype": "text/x-python",
   "name": "python",
   "nbconvert_exporter": "python",
   "pygments_lexer": "ipython3",
   "version": "3.11.4"
  }
 },
 "nbformat": 4,
 "nbformat_minor": 2
}
