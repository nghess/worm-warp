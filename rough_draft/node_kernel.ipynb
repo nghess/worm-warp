{
 "cells": [
  {
   "cell_type": "code",
   "execution_count": 384,
   "metadata": {},
   "outputs": [],
   "source": [
    "import cv2\n",
    "import numpy as np\n",
    "import matplotlib.pyplot as plt"
   ]
  },
  {
   "cell_type": "code",
   "execution_count": 385,
   "metadata": {},
   "outputs": [],
   "source": [
    "def rotate_point(origin, point, angle):\n",
    "\n",
    "    ox, oy = origin\n",
    "    px, py = point\n",
    "\n",
    "    qx = ox + np.cos(angle) * (px - ox) - np.sin(angle) * (py - oy)\n",
    "    qy = oy + np.sin(angle) * (px - ox) + np.cos(angle) * (py - oy)\n",
    "\n",
    "    return int(qx), int(qy)\n",
    "\n",
    "# Node detection kernel, generates feature to detect inside sliding window\n",
    "def generate_features(win, feature, angle=0, thickness=1):\n",
    "\n",
    "    # Check that feature is correctly specified\n",
    "    assert feature in (\"cross\", \"tee\", \"elbow\", \"end\"), \"Feature must be one of 'cross', 'tee', 'elbow', or 'end'.\"\n",
    "\n",
    "    # Convert angle to radians\n",
    "    angle = np.deg2rad(angle)\n",
    "    \n",
    "    # Create kernel matrix, if end feature is selected, generate end-detector mask\n",
    "    kernel = np.zeros((win, win), np.uint8)\n",
    "    if feature == \"end\":\n",
    "        end_mask = np.zeros((win, win), np.uint8)\n",
    "\n",
    "    # Define center of kernel\n",
    "    center = win // 2\n",
    "    origin = (center, center)\n",
    "\n",
    "    # Draw Top\n",
    "    if feature in (\"cross\", \"tee\", \"end\"):\n",
    "        endpoint = rotate_point(origin, (center, 1), angle)\n",
    "        cv2.line(kernel, origin, endpoint, (1, 1, 1), thickness)\n",
    "    # Draw Bottom\n",
    "    if feature == \"cross\":\n",
    "        endpoint = rotate_point(origin, (center, win-1), angle)\n",
    "        cv2.line(kernel, origin, endpoint, (1, 1, 1), thickness)\n",
    "    # Draw Left \n",
    "    if feature in (\"cross\", \"tee\"):\n",
    "        endpoint = rotate_point(origin, (1, center), angle)\n",
    "        cv2.line(kernel, origin, endpoint, (1, 1, 1), thickness)\n",
    "    # Draw Right \n",
    "    if feature in (\"cross\", \"tee\", \"elbow\"):\n",
    "        endpoint = rotate_point(origin, (win-1, center), angle)\n",
    "        cv2.line(kernel, origin, endpoint, (1, 1, 1), thickness)\n",
    "    # Draw end mask, if applicable\n",
    "    if feature == \"end\":\n",
    "        edge_detector_1 = rotate_point(origin, (center-win//4, win-win//4), angle)\n",
    "        edge_detector_2 = rotate_point(origin, (center+win//4, win-win//4), angle)\n",
    "        edge_detector_3 = rotate_point(origin, (center, win-win//2.5), angle)\n",
    "        cv2.line(end_mask, edge_detector_1, edge_detector_1, (1, 1, 1), thickness)\n",
    "        cv2.line(end_mask, edge_detector_2, edge_detector_2, (1, 1, 1), thickness)\n",
    "        cv2.line(end_mask, edge_detector_3, edge_detector_3, (1, 1, 1), thickness)\n",
    "        \n",
    "        \n",
    "    if feature == \"end\":\n",
    "        return kernel, end_mask + kernel\n",
    "    else:\n",
    "        return kernel"
   ]
  },
  {
   "cell_type": "code",
   "execution_count": 386,
   "metadata": {},
   "outputs": [],
   "source": [
    "window = 35\n",
    "radius = -(-window//2)"
   ]
  },
  {
   "cell_type": "code",
   "execution_count": 387,
   "metadata": {},
   "outputs": [],
   "source": [
    "end_seg, end_mask = generate_features(window, feature=\"end\", angle=60)"
   ]
  },
  {
   "cell_type": "code",
   "execution_count": 388,
   "metadata": {},
   "outputs": [
    {
     "data": {
      "image/png": "[encoded data removed]",
      "text/plain": [
       "<Figure size 500x500 with 2 Axes>"
      ]
     },
     "metadata": {},
     "output_type": "display_data"
    }
   ],
   "source": [
    "# Visualize end segment\n",
    "fig, (ax1, ax2) = plt.subplots(1, 2, figsize=(5, 5))\n",
    "\n",
    "ax1.imshow(end_seg, cmap='gray')\n",
    "ax2.imshow(end_mask, cmap='gray')\n",
    "\n",
    "# Optionally, set titles for each subplot\n",
    "ax1.set_title('Segment')\n",
    "ax2.set_title('Detector')\n",
    "\n",
    "# Show the plot\n",
    "plt.show()"
   ]
  },
  {
   "cell_type": "code",
   "execution_count": 389,
   "metadata": {},
   "outputs": [
    {
     "data": {
      "text/plain": [
       "<matplotlib.image.AxesImage at 0x1d3d6fb23c8>"
      ]
     },
     "execution_count": 389,
     "metadata": {},
     "output_type": "execute_result"
    },
    {
     "data": {
      "image/png": "[encoded data removed]",
      "text/plain": [
       "<Figure size 500x500 with 1 Axes>"
      ]
     },
     "metadata": {},
     "output_type": "display_data"
    }
   ],
   "source": [
    "# Draw frame around window \n",
    "hit_perim = np.zeros((window, window), np.uint8)\n",
    "hit_perim[0,:] = 1 # Top\n",
    "hit_perim[:,0] = 1 # Left\n",
    "hit_perim[window-1,:] = 1 # Bottom\n",
    "hit_perim[:,window-1] = 1 # Right\n",
    "\n",
    "fig, ax = plt.subplots(figsize=(5, 5))\n",
    "ax.imshow(hit_perim, cmap='gray')\n"
   ]
  }
 ],
 "metadata": {
  "kernelspec": {
   "display_name": "dlc-live",
   "language": "python",
   "name": "python3"
  },
  "language_info": {
   "codemirror_mode": {
    "name": "ipython",
    "version": 3
   },
   "file_extension": ".py",
   "mimetype": "text/x-python",
   "name": "python",
   "nbconvert_exporter": "python",
   "pygments_lexer": "ipython3",
   "version": "3.7.13"
  }
 },
 "nbformat": 4,
 "nbformat_minor": 2
}
