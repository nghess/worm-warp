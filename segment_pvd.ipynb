{
 "cells": [
  {
   "cell_type": "code",
   "execution_count": 58,
   "metadata": {},
   "outputs": [],
   "source": [
    "import numpy as np\n",
    "from skimage import io, morphology\n",
    "import matplotlib.pyplot as plt\n",
    "from sklearn.linear_model import LinearRegression\n",
    "import imageio"
   ]
  },
  {
   "cell_type": "code",
   "execution_count": 96,
   "metadata": {},
   "outputs": [],
   "source": [
    "import numpy as np\n",
    "from sklearn.linear_model import LinearRegression\n",
    "\n",
    "def get_window(data, index, window_size=(32, 32, 32)):\n",
    "    assert len(index) == 3, \"Indices must be in 3-dimensional triplets (x,y,z)\"\n",
    "\n",
    "    x, y, z = index\n",
    "    x_min = max(x - window_size[0] // 2, 0)\n",
    "    x_max = min(x + window_size[0] // 2, data.shape[0])\n",
    "    y_min = max(y - window_size[1] // 2, 0)\n",
    "    y_max = min(y + window_size[1] // 2, data.shape[1])\n",
    "    z_min = max(z - window_size[2] // 2, 0)\n",
    "    z_max = min(z + window_size[2] // 2, data.shape[2])\n",
    "    \n",
    "    window = data[x_min:x_max, y_min:y_max, z_min:z_max]\n",
    "    return window\n",
    "\n",
    "\n",
    "def fit_3d_line(data):\n",
    "    # Get the coordinates of the points\n",
    "    coords = np.array(np.nonzero(data)).T\n",
    "    values = data[data != 0]\n",
    "    \n",
    "    # Check if we have enough points to fit a line\n",
    "    if len(coords) < 2:\n",
    "        return None, None\n",
    "    \n",
    "    # Fit a 3D line\n",
    "    reg = LinearRegression().fit(coords, values)\n",
    "    slope = reg.coef_\n",
    "    r_squared = reg.score(coords, values)\n",
    "    \n",
    "    return slope, r_squared\n",
    "\n",
    "def get_slope(data, indices):\n",
    "    result_dict = {}\n",
    "    \n",
    "    for index in indices:\n",
    "        window = get_window(data, index)\n",
    "        slope, r_squared = fit_3d_line(window)\n",
    "        if slope is not None and r_squared is not None:\n",
    "            result_dict[tuple(index)] = {'slope': slope, 'r_squared': r_squared}\n",
    "    \n",
    "    return result_dict"
   ]
  },
  {
   "cell_type": "markdown",
   "metadata": {},
   "source": [
    "### Read Stack"
   ]
  },
  {
   "cell_type": "code",
   "execution_count": 78,
   "metadata": {},
   "outputs": [
    {
     "name": "stdout",
     "output_type": "stream",
     "text": [
      "(188, 2044, 2042)\n"
     ]
    }
   ],
   "source": [
    "import tifffile as tiff\n",
    "\n",
    "# Read the TIFF stack\n",
    "data = tiff.imread('output/thresh_stack.tif')\n",
    "\n",
    "# Check the shape of the data\n",
    "print(data.shape)\n"
   ]
  },
  {
   "cell_type": "code",
   "execution_count": null,
   "metadata": {},
   "outputs": [],
   "source": [
    "# Resize"
   ]
  },
  {
   "cell_type": "markdown",
   "metadata": {},
   "source": [
    "### Get Indices"
   ]
  },
  {
   "cell_type": "code",
   "execution_count": 90,
   "metadata": {},
   "outputs": [],
   "source": [
    "# Find indices of positive mask\n",
    "indices = np.where(data == 1) \n",
    "# Convert to list of triplets\n",
    "indices_list = list(zip(indices[0], indices[1], indices[2]))"
   ]
  },
  {
   "cell_type": "code",
   "execution_count": 92,
   "metadata": {},
   "outputs": [
    {
     "name": "stdout",
     "output_type": "stream",
     "text": [
      "1256635\n",
      "(0, 1323, 770)\n"
     ]
    }
   ],
   "source": [
    "# Sanity check\n",
    "print(len(indices_list))\n",
    "print(indices_list[0])"
   ]
  },
  {
   "cell_type": "markdown",
   "metadata": {},
   "source": [
    "### Find Slopes"
   ]
  },
  {
   "cell_type": "code",
   "execution_count": 97,
   "metadata": {},
   "outputs": [
    {
     "name": "stdout",
     "output_type": "stream",
     "text": [
      "1256635\n"
     ]
    }
   ],
   "source": [
    "# Example usage:\n",
    "\n",
    "result = get_slope(data, indices_list)\n",
    "print(len(result))"
   ]
  }
 ],
 "metadata": {
  "kernelspec": {
   "display_name": "base",
   "language": "python",
   "name": "python3"
  },
  "language_info": {
   "codemirror_mode": {
    "name": "ipython",
    "version": 3
   },
   "file_extension": ".py",
   "mimetype": "text/x-python",
   "name": "python",
   "nbconvert_exporter": "python",
   "pygments_lexer": "ipython3",
   "version": "3.11.4"
  }
 },
 "nbformat": 4,
 "nbformat_minor": 2
}
