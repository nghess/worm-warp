{
 "cells": [
  {
   "cell_type": "code",
   "execution_count": null,
   "metadata": {},
   "outputs": [],
   "source": [
    "import cv2\n",
    "import numpy as np\n",
    "from skimage import io, morphology\n",
    "import matplotlib.pyplot as plt\n",
    "import imageio"
   ]
  },
  {
   "cell_type": "code",
   "execution_count": null,
   "metadata": {},
   "outputs": [],
   "source": [
    "# Normalize between 0 and 1, then multiply by 255\n",
    "def normalize_img(image, dtype=np.uint8):\n",
    "    image = image.astype(float)\n",
    "    image -= np.amin(image.astype(float))\n",
    "    image /= np.amax(image)\n",
    "    image *= 255\n",
    "    return image.astype(dtype)"
   ]
  },
  {
   "cell_type": "code",
   "execution_count": null,
   "metadata": {},
   "outputs": [],
   "source": [
    "def set_black(image, dtype=np.uint8):\n",
    "    \n",
    "    window = image[:250,:250]\n",
    "    black_pt = np.mean(window)\n",
    "\n",
    "    # Set all pixels below the black point to zero\n",
    "    thresholded_image = np.maximum(image, black_pt)\n",
    "\n",
    "    # Adjust the scale of other pixels\n",
    "    scale_factor = 255 / (255 - black_pt)\n",
    "    adjusted_image = (thresholded_image - black_pt) * scale_factor\n",
    "    adjusted_image = np.clip(adjusted_image, 0, 255).astype(np.uint8)\n",
    "\n",
    "    return adjusted_image"
   ]
  },
  {
   "cell_type": "code",
   "execution_count": null,
   "metadata": {},
   "outputs": [],
   "source": [
    "def sigmoid_adjustment(image, std_mult=1.5, alpha=.5):\n",
    "\n",
    "    # Get mean and standard deviation of image\n",
    "    mean_val = np.mean(image)\n",
    "    std_dev = np.std(image)\n",
    "\n",
    "    # Set the midpoint for the sigmoid function to 1 standard deviation above the mean * arbitrary multiplier\n",
    "    midpoint = mean_val + std_dev * std_mult\n",
    "\n",
    "    # Apply the sigmoid function to adjust image contrast\n",
    "    # 'alpha' controls the steepness of the sigmoid curve\n",
    "    adjusted_image = 1 / (1 + np.exp(-alpha * (image - midpoint)))\n",
    "\n",
    "    # Scale back to 0-255 and convert to uint8\n",
    "    adjusted_image = np.uint8(255 * (adjusted_image - adjusted_image.min()) / (adjusted_image.max() - adjusted_image.min()))\n",
    "\n",
    "    return adjusted_image"
   ]
  },
  {
   "cell_type": "code",
   "execution_count": null,
   "metadata": {},
   "outputs": [],
   "source": [
    "def mask_slice(image, mask):\n",
    "    image *= mask\n",
    "    return image"
   ]
  },
  {
   "cell_type": "code",
   "execution_count": null,
   "metadata": {},
   "outputs": [],
   "source": [
    "def threshold_slice(image, threshold=0, cleaned=False, min_size=4):\n",
    "    canvas = np.ones_like(image)\n",
    "    image = np.where(image > threshold, canvas, 0)\n",
    "\n",
    "    if cleaned:\n",
    "        binary_img = image > 0\n",
    "        image = morphology.remove_small_objects(binary_img, min_size, connectivity=2)\n",
    "        \n",
    "    return image"
   ]
  },
  {
   "cell_type": "code",
   "execution_count": null,
   "metadata": {},
   "outputs": [],
   "source": [
    "# Function to apply an arbitrary process to each slice in a stack\n",
    "def process_stack(input_stack, process_func, *args, **kwargs):\n",
    "\n",
    "    output_stack = np.zeros_like(input_stack)\n",
    "\n",
    "    for z in range(input_stack.shape[0]):\n",
    "        slice = input_stack[z,:,:]\n",
    "        output_stack[z,:,:] = process_func(slice, *args, **kwargs)\n",
    "\n",
    "    return output_stack"
   ]
  },
  {
   "cell_type": "code",
   "execution_count": null,
   "metadata": {},
   "outputs": [],
   "source": [
    "def visualize_slices(processed_stack, preview_slices):\n",
    "\n",
    "    # Determine the number of subplots needed\n",
    "    num_slices = len(preview_slices)\n",
    "    num_rows = int(np.ceil(np.sqrt(num_slices)))\n",
    "    num_cols = int(np.ceil(num_slices / num_rows))\n",
    "    \n",
    "    # Create subplots\n",
    "    fig, axs = plt.subplots(num_rows, num_cols, figsize=(12, 12))\n",
    "    axs = axs.ravel()  # Flatten the axis array if necessary\n",
    "\n",
    "    # Display each slice in its subplot\n",
    "    for i, slice_idx in enumerate(preview_slices):\n",
    "        slice_img = processed_stack[slice_idx, :, :]\n",
    "        axs[i].imshow(slice_img, cmap='gray')\n",
    "        axs[i].set_title(f'Slice {slice_idx}')\n",
    "        axs[i].axis('off')  # Optional: remove axes for cleaner look\n",
    "\n",
    "    # Adjust layout to prevent overlap\n",
    "    plt.tight_layout()\n",
    "    plt.show()"
   ]
  },
  {
   "cell_type": "code",
   "execution_count": null,
   "metadata": {},
   "outputs": [],
   "source": [
    "# Load image stack\n",
    "stack = io.imread('stacks/exp240202_01_E.tif')\n",
    "input_stack = stack[0,:,:,:]\n",
    "del stack"
   ]
  },
  {
   "cell_type": "code",
   "execution_count": null,
   "metadata": {},
   "outputs": [],
   "source": [
    "# Normalize between 0-255\n",
    "norm_stack = process_stack(input_stack, normalize_img)\n",
    "#input_stack = process_stack(input_stack, cv2.convertScaleAbs, alpha=1, beta=-50)\n"
   ]
  },
  {
   "cell_type": "code",
   "execution_count": null,
   "metadata": {},
   "outputs": [],
   "source": [
    "# Set black point to average background color\n",
    "black_stack = process_stack(norm_stack, set_black)\n",
    "print(np.amin(black_stack[16,:,:]))\n",
    "print(np.amax(black_stack[16,:,:]))"
   ]
  },
  {
   "cell_type": "code",
   "execution_count": null,
   "metadata": {},
   "outputs": [],
   "source": [
    "# Pull out signal using sigmoid\n",
    "processed_stack = process_stack(black_stack, sigmoid_adjustment, std_mult=3, alpha=1) "
   ]
  },
  {
   "cell_type": "code",
   "execution_count": null,
   "metadata": {},
   "outputs": [],
   "source": [
    "# Visualize\n",
    "preview_slices = [16, 32, 64, 96]\n",
    "visualize_slices(processed_stack, preview_slices)\n"
   ]
  },
  {
   "cell_type": "markdown",
   "metadata": {},
   "source": [
    "### Create MIP Mask"
   ]
  },
  {
   "cell_type": "code",
   "execution_count": null,
   "metadata": {},
   "outputs": [],
   "source": [
    "mip_image = np.max(input_stack, axis=0)\n",
    "canvas = np.ones_like(mip_image)\n",
    "mip_mask = np.where(normalize_img(mip_image) >= 4, canvas, 0)\n",
    "np.amax(mip_mask)"
   ]
  },
  {
   "cell_type": "code",
   "execution_count": null,
   "metadata": {},
   "outputs": [],
   "source": [
    "fig, ax = plt.subplots(figsize=(6, 6))\n",
    "ax.imshow(mip_mask, cmap='gray')"
   ]
  },
  {
   "cell_type": "code",
   "execution_count": null,
   "metadata": {},
   "outputs": [],
   "source": [
    "# Remove small objects (optional)\n",
    "from skimage import morphology\n",
    "\n",
    "binary_img = mip_mask > 0\n",
    "cleaned_mask = morphology.remove_small_objects(binary_img, min_size=48, connectivity=4)\n",
    "\n",
    "# Display the result\n",
    "fig, ax = plt.subplots(figsize=(12, 12))\n",
    "ax.imshow(cleaned_mask, cmap='gray')"
   ]
  },
  {
   "cell_type": "markdown",
   "metadata": {},
   "source": [
    "### Final Threshold"
   ]
  },
  {
   "cell_type": "code",
   "execution_count": null,
   "metadata": {},
   "outputs": [],
   "source": [
    "masked_stack = process_stack(processed_stack, mask_slice, mask=mip_mask)"
   ]
  },
  {
   "cell_type": "code",
   "execution_count": null,
   "metadata": {},
   "outputs": [],
   "source": [
    "visualize_slices(masked_stack, preview_slices)"
   ]
  },
  {
   "cell_type": "code",
   "execution_count": null,
   "metadata": {},
   "outputs": [],
   "source": [
    "thresh_stack = process_stack(masked_stack, threshold_slice, threshold=64, min_size=4)"
   ]
  },
  {
   "cell_type": "code",
   "execution_count": null,
   "metadata": {},
   "outputs": [],
   "source": [
    "visualize_slices(thresh_stack, preview_slices)"
   ]
  },
  {
   "cell_type": "markdown",
   "metadata": {},
   "source": [
    "### Remove Floating Regions"
   ]
  },
  {
   "cell_type": "code",
   "execution_count": null,
   "metadata": {},
   "outputs": [],
   "source": [
    "from scipy.ndimage import label\n",
    "\n",
    "def filter_fuzzy_regions(image):\n",
    "    labeled, num_features = label(image)\n",
    "    output = np.zeros_like(image)\n",
    "\n",
    "    # Analyze each region\n",
    "    for i in range(1, num_features + 1):\n",
    "        region = (labeled == i)\n",
    "        if np.mean(region[image == 1]) > 0.95 or np.mean(region[image == 0]) > 0.95:\n",
    "            output[region] = image[region]\n",
    "\n",
    "    return output\n"
   ]
  },
  {
   "cell_type": "code",
   "execution_count": null,
   "metadata": {},
   "outputs": [],
   "source": [
    "# Remove fuzzy regions from each slice\n",
    "#thresh_stack = process_stack(thresh_stack, filter_fuzzy_regions)"
   ]
  },
  {
   "cell_type": "code",
   "execution_count": null,
   "metadata": {},
   "outputs": [],
   "source": [
    "# Try removing small objects on full 3d stack\n",
    "thresh_stack = morphology.remove_small_objects(thresh_stack > 0, min_size=48000, connectivity=26) # 6 = face connectivity, 18 = face + edge, 26 = face + edge + corner"
   ]
  },
  {
   "cell_type": "code",
   "execution_count": null,
   "metadata": {},
   "outputs": [],
   "source": [
    "visualize_slices(thresh_stack, preview_slices)"
   ]
  },
  {
   "cell_type": "code",
   "execution_count": null,
   "metadata": {},
   "outputs": [],
   "source": [
    "# Convert bool to uint8\n",
    "thresh_stack = thresh_stack.astype(np.uint8)\n",
    "np.amax(thresh_stack)"
   ]
  },
  {
   "cell_type": "code",
   "execution_count": null,
   "metadata": {},
   "outputs": [],
   "source": [
    "# Export tiff stack\n",
    "with imageio.get_writer('thresh_stack.tif', format='TIFF', mode='I') as writer:\n",
    "    for slice in thresh_stack:\n",
    "        writer.append_data(slice*255)"
   ]
  },
  {
   "cell_type": "code",
   "execution_count": null,
   "metadata": {},
   "outputs": [],
   "source": [
    "from scipy.ndimage import label\n",
    "\n",
    "# Use a more restrictive connectivity structure\n",
    "structure = np.array([\n",
    "    [[0, 0, 0], [0, 1, 0], [0, 0, 0]],\n",
    "    [[0, 1, 0], [1, 1, 1], [0, 1, 0]],\n",
    "    [[0, 0, 0], [0, 1, 0], [0, 0, 0]]\n",
    "])\n",
    "labeled_array, num_features = label(thresh_stack, structure=structure)\n",
    "\n",
    "print(\"Number of distinct branches:\", num_features)\n",
    "print(\"Labeled Array:\", labeled_array)"
   ]
  },
  {
   "cell_type": "code",
   "execution_count": null,
   "metadata": {},
   "outputs": [],
   "source": [
    "plt.imshow(labeled_array[16,:,:])  # Change slice index as needed\n",
    "plt.title(\"Sample Slice\")\n",
    "plt.show()"
   ]
  },
  {
   "cell_type": "code",
   "execution_count": null,
   "metadata": {},
   "outputs": [],
   "source": [
    "from skimage.morphology import skeletonize_3d\n",
    "from skimage.measure import label\n",
    "\n",
    "# Apply skeletonization to reduce to a minimal connected structure\n",
    "skeleton = skeletonize_3d(thresh_stack)\n",
    "\n",
    "# Label the skeletonized image\n",
    "labeled_skeleton = label(skeleton, connectivity=3)"
   ]
  },
  {
   "cell_type": "code",
   "execution_count": null,
   "metadata": {},
   "outputs": [],
   "source": [
    "labeled_skeleton.shape"
   ]
  },
  {
   "cell_type": "code",
   "execution_count": null,
   "metadata": {},
   "outputs": [],
   "source": [
    "plt.imshow(labeled_skeleton[32,:,:])  # Change slice index as needed\n",
    "plt.title(\"Sample Slice\")\n",
    "plt.show()"
   ]
  }
 ],
 "metadata": {
  "kernelspec": {
   "display_name": "base",
   "language": "python",
   "name": "python3"
  },
  "language_info": {
   "codemirror_mode": {
    "name": "ipython",
    "version": 3
   },
   "file_extension": ".py",
   "mimetype": "text/x-python",
   "name": "python",
   "nbconvert_exporter": "python",
   "pygments_lexer": "ipython3",
   "version": "3.11.4"
  }
 },
 "nbformat": 4,
 "nbformat_minor": 2
}
