{
 "cells": [
  {
   "cell_type": "code",
   "execution_count": 251,
   "metadata": {},
   "outputs": [],
   "source": [
    "import numpy as np\n",
    "import pickle\n",
    "import operator\n",
    "from collections import deque\n",
    "from itertools import chain\n",
    "import plotly.graph_objects as go\n",
    "import plotly.io as pio"
   ]
  },
  {
   "cell_type": "markdown",
   "metadata": {},
   "source": [
    "### Functions"
   ]
  },
  {
   "cell_type": "code",
   "execution_count": 252,
   "metadata": {},
   "outputs": [],
   "source": [
    "def find_indices(array, condition=operator.eq, value=1):\n",
    "    # Return list of indices for cells meeting a logical condition\n",
    "    indices = np.argwhere(condition(array, value))\n",
    "    return [tuple(idx) for idx in indices]\n",
    "\n",
    "def check_neighbors(array, x, y, z, mode=\"count\", prev=None):\n",
    "    assert mode in [\"count\", \"retrieve\"], \"Mode must be either 'count' or 'retrieve'\"\n",
    "    count = 0\n",
    "    neighbors = []\n",
    "    # Iterate through all possible neighbors\n",
    "    for i in [-1, 0, 1]:\n",
    "        for j in [-1, 0, 1]:\n",
    "            for k in [-1, 0, 1]:\n",
    "                # Skip the cell itself\n",
    "                if i == 0 and j == 0 and k == 0:\n",
    "                    continue\n",
    "                # Neighbor cell coords\n",
    "                nx, ny, nz = x + i, y + j, z + k\n",
    "                # Check if the neighbor is within bounds\n",
    "                if 0 <= nx < array.shape[0] and 0 <= ny < array.shape[1] and 0 <= nz < array.shape[2]:\n",
    "                    if array[nx, ny, nz] != 0 and (nx, ny, nz) != prev:\n",
    "                        count += 1\n",
    "                        neighbors.append((nx, ny, nz))\n",
    "    if mode == \"count\":\n",
    "        return count\n",
    "    if mode == \"retrieve\":\n",
    "        return neighbors\n",
    "    \n",
    "    return None\n",
    "\n",
    "\n",
    "def traverse_all_neighbors_bfs(array, start_indices, stop_indices):\n",
    "    segments = []\n",
    "    next_start = []\n",
    "\n",
    "    def bfs(start):\n",
    "        queue = deque([([start], start)])\n",
    "        visited = set([start])\n",
    "        \n",
    "        while queue:\n",
    "            path, current = queue.popleft()\n",
    "            x, y, z = current\n",
    "            \n",
    "            if current in stop_indices:\n",
    "                segments.append(path)\n",
    "                next_start.append(current)\n",
    "                return\n",
    "            \n",
    "            for neighbor in check_neighbors(array, x, y, z, mode=\"retrieve\"):\n",
    "                if neighbor not in visited:\n",
    "                    visited.add(neighbor)\n",
    "                    queue.append((path + [neighbor], neighbor))\n",
    "\n",
    "    for start in start_indices:\n",
    "        bfs(start)\n",
    "    \n",
    "    return segments, next_start\n",
    "\n",
    "\n",
    "def find_nodes(array, indices, condition=operator.eq, neighbor_criterion=1):\n",
    "    cells_matching_criterion = []\n",
    "\n",
    "    # Iterate through each cell in the array\n",
    "    for ii in range(len(indices)):\n",
    "        z = indices[ii][0]\n",
    "        x = indices[ii][1]\n",
    "        y = indices[ii][2]\n",
    "        if array[z, x, y] != 0 and condition(check_neighbors(array, z, x, y, mode=\"count\"), neighbor_criterion):\n",
    "            cells_matching_criterion.append((z, x, y))\n",
    "    return cells_matching_criterion\n",
    "\n",
    "# Check if coordinate pairs are within a given tolerance\n",
    "def check_tolerance(coord1, coord2, tolerance):\n",
    "    return all(abs(a - b) <= tolerance for a, b in zip(coord1, coord2))\n",
    "\n",
    "# Filter coords in list_a if they are too similar to coords in list_b\n",
    "def filter_coordinates(list_a, list_b, tolerance=5):\n",
    "    filtered_list = []\n",
    "    for coord_a in list_a:\n",
    "        if not any(check_tolerance(coord_a, coord_b, tolerance) for coord_b in list_b):\n",
    "            filtered_list.append(coord_a)\n",
    "    return filtered_list\n",
    "\n",
    "# If multiple nodes are too close, remove all but one\n",
    "def remove_close_coordinates(coords, tolerance=5):\n",
    "    filtered_coords = []\n",
    "    for coord in coords:\n",
    "        if all(not check_tolerance(coord, existing, tolerance) for existing in filtered_coords):\n",
    "            filtered_coords.append(coord)\n",
    "    return filtered_coords\n",
    "\n",
    "# Subtract segments from skeleton based on list of segments from traverse_all_neighbors_bfs()\n",
    "def subtract_segments(skeleton, segments):\n",
    "    for segment in segments:\n",
    "        z = [point[0] for point in segment]\n",
    "        x = [point[1] for point in segment]\n",
    "        y = [point[2] for point in segment]\n",
    "        for ii in range(len(segment)):\n",
    "            skeleton[z,x,y] = 0\n",
    "            \n",
    "    return skeleton\n"
   ]
  },
  {
   "cell_type": "markdown",
   "metadata": {},
   "source": [
    "### Load Skeleton"
   ]
  },
  {
   "cell_type": "code",
   "execution_count": 253,
   "metadata": {},
   "outputs": [
    {
     "name": "stdout",
     "output_type": "stream",
     "text": [
      "min: 0 max:1 shape:(188, 2044, 2042) type:<class 'numpy.ndarray'> \n"
     ]
    }
   ],
   "source": [
    "timepoint = 3\n",
    "\n",
    "# Load 3d data\n",
    "skeleton = np.load(f'output/pvd_skeleton_{timepoint}.npy')  # Load your 3D neuron data\n",
    "\n",
    "# Print descriptives\n",
    "print(f\"min: {np.amin(skeleton)} max:{np.amax(skeleton)} shape:{skeleton.shape} type:{type(skeleton)} \")"
   ]
  },
  {
   "cell_type": "markdown",
   "metadata": {},
   "source": [
    "### Find Nodes"
   ]
  },
  {
   "cell_type": "code",
   "execution_count": 254,
   "metadata": {},
   "outputs": [],
   "source": [
    "# Get indices of relevant cells\n",
    "skeleton_idx = find_indices(skeleton)"
   ]
  },
  {
   "cell_type": "code",
   "execution_count": 255,
   "metadata": {},
   "outputs": [
    {
     "name": "stdout",
     "output_type": "stream",
     "text": [
      "number of tips: 152\n"
     ]
    }
   ],
   "source": [
    "# Find tips (cells with a single neighbor)\n",
    "tips = find_nodes(skeleton, skeleton_idx, condition=operator.eq, neighbor_criterion=1)\n",
    "print(f\"number of tips: {len(tips)}\")"
   ]
  },
  {
   "cell_type": "code",
   "execution_count": 256,
   "metadata": {},
   "outputs": [
    {
     "name": "stdout",
     "output_type": "stream",
     "text": [
      "number of knots: 296\n"
     ]
    }
   ],
   "source": [
    "# Find knots (cells with >= 3 neighbors)\n",
    "knots = find_nodes(skeleton, skeleton_idx, condition=operator.ge, neighbor_criterion=3)\n",
    "print(f\"number of knots: {len(knots)}\")"
   ]
  },
  {
   "cell_type": "code",
   "execution_count": 257,
   "metadata": {},
   "outputs": [
    {
     "name": "stdout",
     "output_type": "stream",
     "text": [
      "number of knots after filtering: 173\n"
     ]
    }
   ],
   "source": [
    "# Remove knots that are too close together\n",
    "knots = remove_close_coordinates(knots, tolerance=1)\n",
    "print(f\"number of knots after filtering: {len(knots)}\")"
   ]
  },
  {
   "cell_type": "code",
   "execution_count": 258,
   "metadata": {},
   "outputs": [
    {
     "name": "stdout",
     "output_type": "stream",
     "text": [
      "number of tips after filtering: 107\n"
     ]
    }
   ],
   "source": [
    "# Filter tips to make sure they aren't too near knots\n",
    "tips = filter_coordinates(tips, knots, tolerance=5)\n",
    "print(f\"number of tips after filtering: {len(tips)}\")"
   ]
  },
  {
   "cell_type": "markdown",
   "metadata": {},
   "source": [
    "### Extract Segments"
   ]
  },
  {
   "cell_type": "code",
   "execution_count": 259,
   "metadata": {},
   "outputs": [],
   "source": [
    "# Start at tips and stop at knots\n",
    "segments, lvl_2_start = traverse_all_neighbors_bfs(skeleton, tips, knots)"
   ]
  },
  {
   "cell_type": "code",
   "execution_count": 260,
   "metadata": {},
   "outputs": [],
   "source": [
    "# Isolate core segment, then add to segments master list\n",
    "# outer_segments_flat = list(chain(*outer_segments))\n",
    "# core_segment = filter_coordinates(skeleton_idx, outer_segments_flat) # This is slow\n",
    "# segments = outer_segments + [core_segment]\n",
    "# print(f\"number of segments: {len(segments)}\")"
   ]
  },
  {
   "cell_type": "markdown",
   "metadata": {},
   "source": [
    "### Remove Segments That start high"
   ]
  },
  {
   "cell_type": "code",
   "execution_count": 261,
   "metadata": {},
   "outputs": [
    {
     "name": "stdout",
     "output_type": "stream",
     "text": [
      "number of segments: 76\n"
     ]
    }
   ],
   "source": [
    "bottom_segments = []\n",
    "\n",
    "for ii, segment in enumerate(segments):\n",
    "    if segment[-1][0] < 33:\n",
    "        bottom_segments.append(segment)\n",
    "\n",
    "print(f\"number of segments: {len(bottom_segments)}\")"
   ]
  },
  {
   "cell_type": "code",
   "execution_count": 262,
   "metadata": {},
   "outputs": [],
   "source": [
    "tips = []\n",
    "\n",
    "for segment in bottom_segments:\n",
    "    tip = segment[0]\n",
    "    tips.append(tip)\n",
    " "
   ]
  },
  {
   "cell_type": "markdown",
   "metadata": {},
   "source": [
    "### Save Segments"
   ]
  },
  {
   "cell_type": "code",
   "execution_count": 263,
   "metadata": {},
   "outputs": [],
   "source": [
    "# Write core segment to disk\n",
    "#np.save(f'output/pvd_core_segment_{timepoint}.npy', core_segment)\n",
    "\n",
    "# Write segments list to disk\n",
    "with open(f'output/outer_segments_{timepoint}.pkl', 'wb') as f:\n",
    "    pickle.dump(bottom_segments, f)"
   ]
  },
  {
   "cell_type": "markdown",
   "metadata": {},
   "source": [
    "### Visualize"
   ]
  },
  {
   "cell_type": "code",
   "execution_count": 264,
   "metadata": {},
   "outputs": [],
   "source": [
    "# Prepare skeleton data for plotting\n",
    "image_stack = np.transpose(skeleton, (1, 2, 0))\n",
    "x, y, z = image_stack.shape\n",
    "Y, X, Z = np.meshgrid(np.arange(y), np.arange(x), np.arange(z))\n",
    "colors = image_stack.ravel()\n",
    "\n",
    "# Extract background points\n",
    "visible_mask = colors != 0\n",
    "\n",
    "# Extract coordinates for skeleton tips\n",
    "tips_z = [point[0] for point in tips]\n",
    "tips_x = [point[1] for point in tips]\n",
    "tips_y = [point[2] for point in tips]\n",
    "\n",
    "# Extract coordinates for skeleton knots\n",
    "knot_z = [point[0] for point in knots]\n",
    "knot_x = [point[1] for point in knots]\n",
    "knot_y = [point[2] for point in knots]\n"
   ]
  },
  {
   "cell_type": "code",
   "execution_count": 265,
   "metadata": {},
   "outputs": [],
   "source": [
    "# Extract segment coordinates and set up segment plotting\n",
    "def extract_coordinates(list_of_lists):\n",
    "    coordinates = []\n",
    "    for sublist in list_of_lists:\n",
    "        z = [coord[0] for coord in sublist]\n",
    "        x = [coord[1] for coord in sublist]\n",
    "        y = [coord[2] for coord in sublist]\n",
    "        coordinates.append((z, x, y))\n",
    "    return coordinates\n",
    "\n",
    "def create_scatter3d_traces(coordinates, color_list):\n",
    "    traces = []\n",
    "    colors = color_list\n",
    "    for i, (z, x, y) in enumerate(coordinates):\n",
    "        trace = go.Scatter3d(\n",
    "            x=x,\n",
    "            y=y,\n",
    "            z=z,\n",
    "            mode='markers',\n",
    "            marker=dict(\n",
    "                size=3,\n",
    "                color=colors[i % len(colors)],  # Cycle through colors\n",
    "                opacity=1\n",
    "            ),\n",
    "            name=f'Segment {i+1}'\n",
    "        )\n",
    "        traces.append(trace)\n",
    "    return traces"
   ]
  },
  {
   "cell_type": "code",
   "execution_count": 266,
   "metadata": {},
   "outputs": [],
   "source": [
    "# Extract coordinates\n",
    "seg_coordinates = extract_coordinates(bottom_segments)\n",
    "\n",
    "# Set colors\n",
    "lvl_1_colors = ['red', 'blue', 'green', 'orange', 'purple', 'brown', 'pink', 'cyan', 'magenta']\n",
    "\n",
    "# Create Scatter3d traces\n",
    "lvl_1_traces = create_scatter3d_traces(seg_coordinates, lvl_1_colors)"
   ]
  },
  {
   "cell_type": "code",
   "execution_count": 267,
   "metadata": {},
   "outputs": [],
   "source": [
    "# Visualize segments\n",
    "fig = go.Figure(data=lvl_1_traces)\n",
    "\n",
    "# # Skeleton tips\n",
    "# fig.add_trace(go.Scatter3d(\n",
    "#     x=tips_x,\n",
    "#     y=tips_y,\n",
    "#     z=tips_z,\n",
    "#     mode='markers',  # Use 'lines' for a line plot or 'markers+lines' for both\n",
    "#     marker=dict(\n",
    "#         size=6,\n",
    "#         color='black',  # You can customize the color\n",
    "#         opacity=1\n",
    "#     )\n",
    "# ))\n",
    "\n",
    "# # Skeleton knots\n",
    "# fig.add_trace(go.Scatter3d(\n",
    "#     x=knot_x,\n",
    "#     y=knot_y,\n",
    "#     z=knot_z,\n",
    "#     mode='markers',  # Use 'lines' for a line plot or 'markers+lines' for both\n",
    "#     marker=dict(\n",
    "#         size=8,\n",
    "#         color='blue',\n",
    "#         opacity=1\n",
    "#     )\n",
    "# ))\n",
    "\n",
    "# Original skeleton structure\n",
    "fig.add_trace(go.Scatter3d(\n",
    "    x=X.ravel()[visible_mask],\n",
    "    y=Y.ravel()[visible_mask],\n",
    "    z=Z.ravel()[visible_mask],\n",
    "    mode='markers',\n",
    "    marker=dict(\n",
    "        size=2,\n",
    "        color='black',\n",
    "        colorscale='Viridis',\n",
    "        opacity=.1\n",
    "    )\n",
    "))\n",
    "\n",
    "fig.update_layout(\n",
    "    title='C. Elegans PVD Neuron',\n",
    "    scene=dict(\n",
    "        xaxis_title='X (pixels)',\n",
    "        yaxis_title='Y (pixels)',\n",
    "        zaxis_title='Z (image index)',\n",
    "        aspectmode='manual',\n",
    "        aspectratio=dict(x=1, y=1, z=.27),  # Adjust z-axis scale if desired\n",
    "        zaxis=dict(range=[0, skeleton.shape[0]]),  # Set z-axis bounds\n",
    "        xaxis=dict(range=[0, skeleton.shape[1]]),  # Set x-axis bounds\n",
    "        yaxis=dict(range=[0, skeleton.shape[2]]),   # Set y-axis bounds\n",
    "\n",
    "    ),\n",
    "    autosize=True\n",
    ")\n",
    "\n",
    "# Save the plot to an HTML file\n",
    "pio.write_html(fig, file=f'plots/skeleton_segmentation_{timepoint}.html', auto_open=True)"
   ]
  }
 ],
 "metadata": {
  "kernelspec": {
   "display_name": "base",
   "language": "python",
   "name": "python3"
  },
  "language_info": {
   "codemirror_mode": {
    "name": "ipython",
    "version": 3
   },
   "file_extension": ".py",
   "mimetype": "text/x-python",
   "name": "python",
   "nbconvert_exporter": "python",
   "pygments_lexer": "ipython3",
   "version": "3.11.4"
  }
 },
 "nbformat": 4,
 "nbformat_minor": 2
}
