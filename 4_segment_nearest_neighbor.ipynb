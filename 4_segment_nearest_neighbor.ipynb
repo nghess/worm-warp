{
 "cells": [
  {
   "cell_type": "code",
   "execution_count": 3,
   "metadata": {},
   "outputs": [],
   "source": [
    "import numpy as np\n",
    "import operator\n",
    "import pickle\n",
    "from scipy.spatial import KDTree\n",
    "from itertools import chain\n",
    "import tifffile"
   ]
  },
  {
   "cell_type": "code",
   "execution_count": 4,
   "metadata": {},
   "outputs": [],
   "source": [
    "def find_indices(array, condition=operator.eq, value=1):\n",
    "    # Return list of indices for cells meeting a logical condition\n",
    "    indices = np.argwhere(condition(array, value))\n",
    "    return [tuple(idx) for idx in indices]"
   ]
  },
  {
   "cell_type": "code",
   "execution_count": 5,
   "metadata": {},
   "outputs": [
    {
     "name": "stdout",
     "output_type": "stream",
     "text": [
      "number of outer outer_segments: 29\n",
      "number of outer outer_segments: 29\n",
      "number of outer outer_segments: 29\n",
      "number of outer outer_segments: 29\n"
     ]
    }
   ],
   "source": [
    "outer_segments = [[],[],[],[]]\n",
    "\n",
    "# Load list of outer+core segments\n",
    "for ii in range(len(outer_segments)):\n",
    "    with open(f'output/matched_segments_{ii}.pkl', 'rb') as f:\n",
    "        outer_segments[ii] = pickle.load(f)\n",
    "    print(f\"number of outer outer segments: {len(outer_segments[ii])}\")"
   ]
  },
  {
   "cell_type": "code",
   "execution_count": 3,
   "metadata": {},
   "outputs": [
    {
     "name": "stdout",
     "output_type": "stream",
     "text": [
      "min: 0 max:1 shape:(188, 2044, 2042) type:<class 'numpy.ndarray'> \n"
     ]
    }
   ],
   "source": [
    "timepoint = 0\n",
    "\n",
    "# Load preprocessed 3d data\n",
    "data_3d = np.load('output/pvd_test.npy')\n",
    "\n",
    "# Print descriptives\n",
    "print(f\"min: {np.amin(data_3d)} max:{np.amax(data_3d)} shape:{data_3d.shape} type:{type(data_3d)} \")"
   ]
  },
  {
   "cell_type": "code",
   "execution_count": 40,
   "metadata": {},
   "outputs": [
    {
     "name": "stdout",
     "output_type": "stream",
     "text": [
      "number of voxels: 1256635\n"
     ]
    }
   ],
   "source": [
    "data_idx = find_indices(data_3d)\n",
    "print(f\"number of voxels: {len(data_idx)}\")"
   ]
  },
  {
   "cell_type": "code",
   "execution_count": null,
   "metadata": {},
   "outputs": [],
   "source": [
    "# Isolate core segment, then add to segments master list\n",
    "outer_segments_flat = list(chain(*outer_segments))\n",
    "# core_segment = filter_coordinates(skeleton_idx, outer_segments_flat) # This is slow\n",
    "# segments = outer_segments + [core_segment]\n",
    "# print(f\"number of segments: {len(segments)}\")"
   ]
  },
  {
   "cell_type": "code",
   "execution_count": 74,
   "metadata": {},
   "outputs": [],
   "source": [
    "def assign_segments_to_indices(indices, segments):\n",
    "    # Flatten the segments list and create a mapping of coordinates to segment indices\n",
    "    flattened_segments = []\n",
    "    coord_to_segment = {}\n",
    "    \n",
    "    for segment_index, segment in enumerate(segments):\n",
    "        for coord in segment:\n",
    "            flattened_segments.append(coord)\n",
    "            coord_to_segment[tuple(coord)] = segment_index\n",
    "    \n",
    "    # Create a KDTree from the flattened segment coordinates\n",
    "    tree = KDTree(flattened_segments)\n",
    "    \n",
    "    # List to store the segment assignments\n",
    "    segment_assignments = []\n",
    "\n",
    "    # Enumerate through the list of indices\n",
    "    for idx in indices:\n",
    "        # Query the KDTree for the nearest segment to the current index\n",
    "        _, nearest_flattened_index = tree.query(idx)\n",
    "        \n",
    "        # Retrieve the segment index from the mapping\n",
    "        nearest_segment_index = coord_to_segment[tuple(flattened_segments[nearest_flattened_index])]\n",
    "        \n",
    "        # Append the segment index to the assignments list\n",
    "        segment_assignments.append(nearest_segment_index)\n",
    "\n",
    "    return segment_assignments"
   ]
  },
  {
   "cell_type": "code",
   "execution_count": 75,
   "metadata": {},
   "outputs": [],
   "source": [
    "segment_assignments = assign_segments_to_indices(data_idx, segments)"
   ]
  },
  {
   "cell_type": "code",
   "execution_count": 92,
   "metadata": {},
   "outputs": [],
   "source": [
    "def label_data_for_imagej_color(indices, segment_assignments, shape, num_segments):\n",
    "    # Create an empty array to hold the labeled data (3 channels for RGB)\n",
    "    labeled_array = np.zeros((*shape, 3), dtype=np.uint8)\n",
    "    \n",
    "    # Generate unique colors for each segment\n",
    "    np.random.seed(0)  # For reproducibility\n",
    "    colors = np.random.randint(0, 255, size=(num_segments, 3), dtype=np.uint8)\n",
    "    \n",
    "    # Assign colors to the corresponding coordinates\n",
    "    for coord, segment in zip(indices, segment_assignments):\n",
    "        labeled_array[coord[0], coord[1], coord[2]] = colors[segment]\n",
    "    \n",
    "    return labeled_array, colors\n",
    "\n",
    "\n",
    "shape = data_3d.shape\n",
    "num_segments = len(set(segment_assignments))+2\n",
    "labeled_array_color, label_colors = label_data_for_imagej_color(data_idx, segment_assignments, shape, num_segments)\n",
    "\n",
    "# Save the labeled array as a TIFF file\n",
    "tifffile.imwrite('labeled_data_color.tif', labeled_array_color)"
   ]
  },
  {
   "cell_type": "code",
   "execution_count": 91,
   "metadata": {},
   "outputs": [
    {
     "data": {
      "text/plain": [
       "(188, 2044, 2042, 3)"
      ]
     },
     "execution_count": 91,
     "metadata": {},
     "output_type": "execute_result"
    }
   ],
   "source": [
    "labeled_array_color.shape"
   ]
  },
  {
   "cell_type": "code",
   "execution_count": 96,
   "metadata": {},
   "outputs": [],
   "source": [
    "from scipy.ndimage import label\n",
    "\n",
    "def process_color_clusters(color_array, colors, threshold=100):\n",
    "\n",
    "    def find_color_indices(array, color):\n",
    "        return np.all(array == color, axis=-1)\n",
    "\n",
    "    def check_bulkiness(array, indices, threshold):\n",
    "        structure = np.ones((3, 3, 3), dtype=int)  # Define connectivity for labeling\n",
    "        labeled_array, num_features = label(indices, structure=structure)\n",
    "        for feature in range(1, num_features + 1):\n",
    "            cluster = (labeled_array == feature)\n",
    "            if np.sum(cluster) > threshold:\n",
    "                array[cluster] = [0, 0, 0]\n",
    "\n",
    "    # Iterate over each color and process\n",
    "    for color in colors:\n",
    "        indices = find_color_indices(color_array, color)\n",
    "        check_bulkiness(color_array, indices, threshold)\n",
    "\n",
    "    return color_array"
   ]
  },
  {
   "cell_type": "code",
   "execution_count": 97,
   "metadata": {},
   "outputs": [
    {
     "ename": "KeyboardInterrupt",
     "evalue": "",
     "output_type": "error",
     "traceback": [
      "\u001b[1;31m---------------------------------------------------------------------------\u001b[0m",
      "\u001b[1;31mKeyboardInterrupt\u001b[0m                         Traceback (most recent call last)",
      "Cell \u001b[1;32mIn[97], line 1\u001b[0m\n\u001b[1;32m----> 1\u001b[0m trimmed_array \u001b[38;5;241m=\u001b[39m process_color_clusters(labeled_array_color, label_colors, threshold\u001b[38;5;241m=\u001b[39m\u001b[38;5;241m100\u001b[39m)\n",
      "Cell \u001b[1;32mIn[96], line 18\u001b[0m, in \u001b[0;36mprocess_color_clusters\u001b[1;34m(color_array, colors, threshold)\u001b[0m\n\u001b[0;32m     16\u001b[0m \u001b[38;5;66;03m# Iterate over each color and process\u001b[39;00m\n\u001b[0;32m     17\u001b[0m \u001b[38;5;28;01mfor\u001b[39;00m color \u001b[38;5;129;01min\u001b[39;00m colors:\n\u001b[1;32m---> 18\u001b[0m     indices \u001b[38;5;241m=\u001b[39m find_color_indices(color_array, color)\n\u001b[0;32m     19\u001b[0m     check_bulkiness(color_array, indices, threshold)\n\u001b[0;32m     21\u001b[0m \u001b[38;5;28;01mreturn\u001b[39;00m color_array\n",
      "Cell \u001b[1;32mIn[96], line 6\u001b[0m, in \u001b[0;36mprocess_color_clusters.<locals>.find_color_indices\u001b[1;34m(array, color)\u001b[0m\n\u001b[0;32m      5\u001b[0m \u001b[38;5;28;01mdef\u001b[39;00m \u001b[38;5;21mfind_color_indices\u001b[39m(array, color):\n\u001b[1;32m----> 6\u001b[0m     \u001b[38;5;28;01mreturn\u001b[39;00m np\u001b[38;5;241m.\u001b[39mall(array \u001b[38;5;241m==\u001b[39m color, axis\u001b[38;5;241m=\u001b[39m\u001b[38;5;241m-\u001b[39m\u001b[38;5;241m1\u001b[39m)\n",
      "File \u001b[1;32mc:\\Users\\hssla\\miniconda3\\Lib\\site-packages\\numpy\\core\\fromnumeric.py:2416\u001b[0m, in \u001b[0;36m_all_dispatcher\u001b[1;34m(a, axis, out, keepdims, where)\u001b[0m\n\u001b[0;32m   2324\u001b[0m \u001b[38;5;250m    \u001b[39m\u001b[38;5;124;03m\"\"\"\u001b[39;00m\n\u001b[0;32m   2325\u001b[0m \u001b[38;5;124;03m    Test whether any array element along a given axis evaluates to True.\u001b[39;00m\n\u001b[0;32m   2326\u001b[0m \n\u001b[1;32m   (...)\u001b[0m\n\u001b[0;32m   2410\u001b[0m \n\u001b[0;32m   2411\u001b[0m \u001b[38;5;124;03m    \"\"\"\u001b[39;00m\n\u001b[0;32m   2412\u001b[0m     \u001b[38;5;28;01mreturn\u001b[39;00m _wrapreduction(a, np\u001b[38;5;241m.\u001b[39mlogical_or, \u001b[38;5;124m'\u001b[39m\u001b[38;5;124many\u001b[39m\u001b[38;5;124m'\u001b[39m, axis, \u001b[38;5;28;01mNone\u001b[39;00m, out,\n\u001b[0;32m   2413\u001b[0m                           keepdims\u001b[38;5;241m=\u001b[39mkeepdims, where\u001b[38;5;241m=\u001b[39mwhere)\n\u001b[1;32m-> 2416\u001b[0m \u001b[38;5;28;01mdef\u001b[39;00m \u001b[38;5;21m_all_dispatcher\u001b[39m(a, axis\u001b[38;5;241m=\u001b[39m\u001b[38;5;28;01mNone\u001b[39;00m, out\u001b[38;5;241m=\u001b[39m\u001b[38;5;28;01mNone\u001b[39;00m, keepdims\u001b[38;5;241m=\u001b[39m\u001b[38;5;28;01mNone\u001b[39;00m, \u001b[38;5;241m*\u001b[39m,\n\u001b[0;32m   2417\u001b[0m                     where\u001b[38;5;241m=\u001b[39m\u001b[38;5;28;01mNone\u001b[39;00m):\n\u001b[0;32m   2418\u001b[0m     \u001b[38;5;28;01mreturn\u001b[39;00m (a, where, out)\n\u001b[0;32m   2421\u001b[0m \u001b[38;5;129m@array_function_dispatch\u001b[39m(_all_dispatcher)\n\u001b[0;32m   2422\u001b[0m \u001b[38;5;28;01mdef\u001b[39;00m \u001b[38;5;21mall\u001b[39m(a, axis\u001b[38;5;241m=\u001b[39m\u001b[38;5;28;01mNone\u001b[39;00m, out\u001b[38;5;241m=\u001b[39m\u001b[38;5;28;01mNone\u001b[39;00m, keepdims\u001b[38;5;241m=\u001b[39mnp\u001b[38;5;241m.\u001b[39m_NoValue, \u001b[38;5;241m*\u001b[39m, where\u001b[38;5;241m=\u001b[39mnp\u001b[38;5;241m.\u001b[39m_NoValue):\n",
      "\u001b[1;31mKeyboardInterrupt\u001b[0m: "
     ]
    }
   ],
   "source": [
    "trimmed_array = process_color_clusters(labeled_array_color, label_colors, threshold=100)"
   ]
  }
 ],
 "metadata": {
  "kernelspec": {
   "display_name": "base",
   "language": "python",
   "name": "python3"
  },
  "language_info": {
   "codemirror_mode": {
    "name": "ipython",
    "version": 3
   },
   "file_extension": ".py",
   "mimetype": "text/x-python",
   "name": "python",
   "nbconvert_exporter": "python",
   "pygments_lexer": "ipython3",
   "version": "3.11.4"
  }
 },
 "nbformat": 4,
 "nbformat_minor": 2
}
