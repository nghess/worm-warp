{
 "cells": [
  {
   "cell_type": "code",
   "execution_count": 38,
   "metadata": {},
   "outputs": [],
   "source": [
    "import numpy as np\n",
    "import operator\n",
    "import pickle\n",
    "from scipy.spatial import KDTree\n",
    "import tifffile\n",
    "from itertools import chain\n",
    "from scipy.spatial.distance import euclidean\n",
    "import plotly.graph_objects as go\n",
    "import plotly.io as pio"
   ]
  },
  {
   "cell_type": "code",
   "execution_count": 41,
   "metadata": {},
   "outputs": [],
   "source": [
    "# Check if coordinate pairs are within a given tolerance\n",
    "def check_tolerance(coord1, coord2, tolerance):\n",
    "    return all(abs(a - b) <= tolerance for a, b in zip(coord1, coord2))\n",
    "\n",
    "# Filter coords in list_a if they are too similar to coords in list_b\n",
    "def filter_coordinates(list_a, list_b, tolerance=5):\n",
    "    filtered_list = []\n",
    "    for coord_a in list_a:\n",
    "        if not any(check_tolerance(coord_a, coord_b, tolerance) for coord_b in list_b):\n",
    "            filtered_list.append(coord_a)\n",
    "    return filtered_list\n",
    "\n",
    "# Return list of indices for cells meeting a given logical condition\n",
    "def find_indices(array, condition=operator.eq, value=1):\n",
    "    indices = np.argwhere(condition(array, value))\n",
    "    return [tuple(idx) for idx in indices]"
   ]
  },
  {
   "cell_type": "code",
   "execution_count": 3,
   "metadata": {},
   "outputs": [
    {
     "name": "stdout",
     "output_type": "stream",
     "text": [
      "Number of outer segments in T0: 74\n",
      "Number of outer segments in T1: 78\n",
      "Number of outer segments in T2: 83\n",
      "Number of outer segments in T3: 76\n"
     ]
    }
   ],
   "source": [
    "# Load list of outer+core segments\n",
    "segments = []\n",
    "timepoints = [0,1,2,3]\n",
    "\n",
    "for timepoint in timepoints:\n",
    "    with open(f'output/outer_segments_{timepoint}.pkl', 'rb') as f:\n",
    "        segments.append(pickle.load(f))\n",
    "    print(f\"Number of outer segments in T{timepoint}: {len(segments[timepoint])}\")"
   ]
  },
  {
   "cell_type": "code",
   "execution_count": 4,
   "metadata": {},
   "outputs": [],
   "source": [
    "# Example segments\n",
    "segments_0 = segments[0]\n",
    "segments_1 = segments[1]\n",
    "segments_2 = segments[2]\n",
    "segments_3 = segments[3]"
   ]
  },
  {
   "cell_type": "code",
   "execution_count": 5,
   "metadata": {},
   "outputs": [
    {
     "name": "stdout",
     "output_type": "stream",
     "text": [
      "74\n",
      "78\n",
      "83\n",
      "76\n"
     ]
    }
   ],
   "source": [
    "print(len(segments_0))\n",
    "print(len(segments_1))\n",
    "print(len(segments_2))\n",
    "print(len(segments_3))"
   ]
  },
  {
   "cell_type": "code",
   "execution_count": 6,
   "metadata": {},
   "outputs": [],
   "source": [
    "segments_0_ends = []\n",
    "segments_1_ends = []\n",
    "segments_2_ends = []\n",
    "segments_3_ends = []\n",
    "\n",
    "for segment in segments_0:\n",
    "    segment = [segment[0], segment[-1]]\n",
    "    segments_0_ends.append(segment)\n",
    "\n",
    "for segment in segments_1:\n",
    "    segment = [segment[0], segment[-1]]\n",
    "    segments_1_ends.append(segment)\n",
    "\n",
    "for segment in segments_2:\n",
    "    segment = [segment[0], segment[-1]]\n",
    "    segments_2_ends.append(segment)\n",
    "\n",
    "for segment in segments_3:\n",
    "    segment = [segment[0], segment[-1]]\n",
    "    segments_3_ends.append(segment)"
   ]
  },
  {
   "cell_type": "code",
   "execution_count": null,
   "metadata": {},
   "outputs": [],
   "source": [
    "def line_similarity(line1, line2):\n",
    "    \"\"\"\n",
    "    Calculate similarity between two lines.\n",
    "    This version uses Euclidean distance between the start and end points.\n",
    "    \"\"\"\n",
    "    z1, x1, y1 = line1[0]\n",
    "    z2, x2, y2 = line1[1]\n",
    "    z1_, x1_, y1_ = line2[0]\n",
    "    z2_, x2_, y2_ = line2[1]\n",
    "    \n",
    "    dist_start = np.sqrt((z1 - z1_)**2 + (x1 - x1_)**2 + (y1 - y1_)**2)\n",
    "    dist_end = np.sqrt((z2 - z2_)**2 + (x2 - x2_)**2 + (y2 - y2_)**2)\n",
    "    \n",
    "    return dist_start + dist_end\n",
    "\n",
    "def find_best_match(line, other_lines):\n",
    "    \"\"\"\n",
    "    Find the best match for a line in a list of lines.\n",
    "    Returns the index of the best matching line and its similarity score.\n",
    "    \"\"\"\n",
    "    best_match_index = None\n",
    "    best_score = float('inf')\n",
    "    \n",
    "    for idx, other_line in enumerate(other_lines):\n",
    "        score = line_similarity(line, other_line)\n",
    "        if score < best_score:\n",
    "            best_score = score\n",
    "            best_match_index = idx\n",
    "    \n",
    "    return best_match_index, best_score\n",
    "\n",
    "def assign_confidence(score, threshold):\n",
    "    \"\"\"\n",
    "    Assign a confidence rating based on the similarity score.\n",
    "    \"\"\"\n",
    "    if score < threshold:\n",
    "        return 'High'\n",
    "    elif score < 2 * threshold:\n",
    "        return 'Medium'\n",
    "    else:\n",
    "        return 'Low'\n",
    "\n",
    "def find_matches_and_confidence(list1, list2, list3, list4, threshold=10):\n",
    "    results = []\n",
    "    \n",
    "    # Step 1: Match list1 with list2\n",
    "    for idx1, line in enumerate(list1):\n",
    "        match2_index, score2 = find_best_match(line, list2)\n",
    "        confidence2 = assign_confidence(score2, threshold)\n",
    "        \n",
    "        if match2_index is not None:\n",
    "            match2_line = list2[match2_index]\n",
    "        else:\n",
    "            match2_line = None\n",
    "        \n",
    "        results.append({\n",
    "            'line': line,\n",
    "            'index1': idx1,\n",
    "            'match2': match2_line,\n",
    "            'index2': match2_index,\n",
    "            'confidence2': confidence2,\n",
    "        })\n",
    "    \n",
    "    # Step 2: Match results from list2 with list3\n",
    "    for result in results:\n",
    "        if result['match2'] is not None:\n",
    "            match3_index, score3 = find_best_match(result['match2'], list3)\n",
    "            confidence3 = assign_confidence(score3, threshold)\n",
    "            \n",
    "            if match3_index is not None:\n",
    "                match3_line = list3[match3_index]\n",
    "            else:\n",
    "                match3_line = None\n",
    "            \n",
    "            result.update({\n",
    "                'match3': match3_line,\n",
    "                'index3': match3_index,\n",
    "                'confidence3': confidence3,\n",
    "            })\n",
    "        else:\n",
    "            result.update({\n",
    "                'match3': None,\n",
    "                'index3': None,\n",
    "                'confidence3': 'Low',\n",
    "            })\n",
    "    \n",
    "    # Step 3: Match results from list3 with list4\n",
    "    for result in results:\n",
    "        if result['match3'] is not None:\n",
    "            match4_index, score4 = find_best_match(result['match3'], list4)\n",
    "            confidence4 = assign_confidence(score4, threshold)\n",
    "            \n",
    "            if match4_index is not None:\n",
    "                match4_line = list4[match4_index]\n",
    "            else:\n",
    "                match4_line = None\n",
    "            \n",
    "            result.update({\n",
    "                'match4': match4_line,\n",
    "                'index4': match4_index,\n",
    "                'confidence4': confidence4,\n",
    "            })\n",
    "        else:\n",
    "            result.update({\n",
    "                'match4': None,\n",
    "                'index4': None,\n",
    "                'confidence4': 'Low',\n",
    "            })\n",
    "    \n",
    "    return results\n",
    "\n",
    "\n",
    "results = find_matches_and_confidence(segments_0_ends, segments_1_ends, segments_2_ends, segments_3_ends)\n",
    "\n",
    "# for ii, result in enumerate(results):\n",
    "#     print(f\"segment {ii}: {result}\")\n"
   ]
  },
  {
   "cell_type": "code",
   "execution_count": 39,
   "metadata": {},
   "outputs": [],
   "source": [
    "def filter_results(results):\n",
    "    \"\"\"\n",
    "    Filter out results that include a 'Low' confidence rating.\n",
    "    \"\"\"\n",
    "    filtered_results = []\n",
    "    \n",
    "    for result in results:\n",
    "        if result['confidence2'] != 'Low' and result['confidence3'] != 'Low' and result['confidence4'] != 'Low':\n",
    "            filtered_results.append(result)\n",
    "    \n",
    "    return filtered_results"
   ]
  },
  {
   "cell_type": "code",
   "execution_count": null,
   "metadata": {},
   "outputs": [],
   "source": [
    "filtered_results = filter_results(results)\n",
    "\n",
    "# for ii, result in enumerate(filtered_results):\n",
    "#     print(f\"segment {ii}: {result}\")"
   ]
  },
  {
   "cell_type": "code",
   "execution_count": 18,
   "metadata": {},
   "outputs": [],
   "source": [
    "t0_segments = []\n",
    "t1_segments = []\n",
    "t2_segments = []\n",
    "t3_segments = []\n",
    "\n",
    "for result in filtered_results:\n",
    "    idx_1 = result['index1']\n",
    "    idx_2 = result['index2']\n",
    "    idx_3 = result['index3']\n",
    "    idx_4 = result['index4']\n",
    "\n",
    "    t0_segments.append(segments_0[idx_1])\n",
    "    t1_segments.append(segments_1[idx_2])\n",
    "    t2_segments.append(segments_2[idx_3])\n",
    "    t3_segments.append(segments_3[idx_4])"
   ]
  },
  {
   "cell_type": "code",
   "execution_count": 37,
   "metadata": {},
   "outputs": [],
   "source": [
    "segments = [t0_segments, t1_segments, t2_segments, t3_segments]\n",
    "\n",
    "for ii, segment in enumerate(segments):\n",
    "    with open(f'output/matched_segments_{ii}.pkl', 'wb') as f:\n",
    "        pickle.dump(segment, f)"
   ]
  },
  {
   "cell_type": "code",
   "execution_count": 45,
   "metadata": {},
   "outputs": [
    {
     "name": "stdout",
     "output_type": "stream",
     "text": [
      "number of outer outer segments: 29\n",
      "number of outer outer segments: 29\n",
      "number of outer outer segments: 29\n",
      "number of outer outer segments: 29\n"
     ]
    }
   ],
   "source": [
    "outer_segments = []\n",
    "timepoints = 4\n",
    "\n",
    "# Load list of outer+core segments\n",
    "for ii in range(timepoints):\n",
    "    with open(f'output/matched_segments_{ii}.pkl', 'rb') as f:\n",
    "        outer_segments.append(pickle.load(f))\n",
    "    print(f\"number of outer outer segments: {len(outer_segments[ii])}\")"
   ]
  },
  {
   "cell_type": "code",
   "execution_count": 42,
   "metadata": {},
   "outputs": [],
   "source": [
    "skeleton_indices = []\n",
    "\n",
    "\n",
    "\n",
    "for ii in range(timepoints):\n",
    "    # Load 3d data\n",
    "    skeleton = np.load(f'output/pvd_skeleton_{ii}.npy')  # Load your 3D neuron data\n",
    "    # Get indices of relevant cells\n",
    "    skeleton_idx = find_indices(skeleton)\n",
    "    skeleton_indices.append(skeleton_idx)"
   ]
  },
  {
   "cell_type": "code",
   "execution_count": 49,
   "metadata": {},
   "outputs": [
    {
     "data": {
      "text/plain": [
       "4"
      ]
     },
     "execution_count": 49,
     "metadata": {},
     "output_type": "execute_result"
    }
   ],
   "source": [
    "len(skeleton_indices)"
   ]
  },
  {
   "cell_type": "code",
   "execution_count": 51,
   "metadata": {},
   "outputs": [
    {
     "name": "stdout",
     "output_type": "stream",
     "text": [
      "number of segments: 1\n",
      "number of segments: 2\n",
      "number of segments: 3\n",
      "number of segments: 4\n"
     ]
    }
   ],
   "source": [
    "all_segments = []\n",
    "\n",
    "for ii, segments in enumerate(outer_segments):\n",
    "    # Isolate core segment, then add to segments master list\n",
    "    outer_segments_flat = list(chain(*segments))\n",
    "    core_segment = filter_coordinates(skeleton_indices[ii], outer_segments_flat, tolerance=1) # This is slow\n",
    "    all_segments.append(segments + [core_segment])\n",
    "    print(f\"number of segments: {len(all_segments[ii])}\")"
   ]
  },
  {
   "cell_type": "code",
   "execution_count": 22,
   "metadata": {},
   "outputs": [],
   "source": [
    "# Extract segment coordinates and set up segment plotting\n",
    "def extract_coordinates(list_of_lists):\n",
    "    coordinates = []\n",
    "    for sublist in list_of_lists:\n",
    "        z = [coord[0] for coord in sublist]\n",
    "        x = [coord[1] for coord in sublist]\n",
    "        y = [coord[2] for coord in sublist]\n",
    "        coordinates.append((z, x, y))\n",
    "    return coordinates\n",
    "\n",
    "def create_scatter3d_traces(coordinates, color_list):\n",
    "    traces = []\n",
    "    colors = color_list\n",
    "    for i, (z, x, y) in enumerate(coordinates):\n",
    "        trace = go.Scatter3d(\n",
    "            x=x,\n",
    "            y=y,\n",
    "            z=z,\n",
    "            mode='markers',\n",
    "            marker=dict(\n",
    "                size=3,\n",
    "                color=colors[i % len(colors)],  # Cycle through colors\n",
    "                opacity=1\n",
    "            ),\n",
    "            name=f'Segment {i+1}'\n",
    "        )\n",
    "        traces.append(trace)\n",
    "    return traces"
   ]
  },
  {
   "cell_type": "code",
   "execution_count": 35,
   "metadata": {},
   "outputs": [],
   "source": [
    "# Extract coordinates\n",
    "seg_coordinates_0 = extract_coordinates(t0_segments)\n",
    "seg_coordinates_1 = extract_coordinates(t1_segments)\n",
    "seg_coordinates_2 = extract_coordinates(t2_segments)\n",
    "seg_coordinates_3 = extract_coordinates(t3_segments)\n",
    "\n",
    "# Set colors\n",
    "lvl_1_colors = ['red', 'blue', 'green', 'orange', 'purple', 'brown', 'pink', 'cyan', 'magenta']\n",
    "\n",
    "# Create Scatter3d traces\n",
    "t0_traces = create_scatter3d_traces(seg_coordinates_0, lvl_1_colors)\n",
    "t1_traces = create_scatter3d_traces(seg_coordinates_1, lvl_1_colors)\n",
    "t2_traces = create_scatter3d_traces(seg_coordinates_2, lvl_1_colors)\n",
    "t3_traces = create_scatter3d_traces(seg_coordinates_3, lvl_1_colors)\n",
    "\n",
    "# Combine all traces into one list\n",
    "all_traces = t0_traces + t1_traces + t2_traces + t3_traces"
   ]
  },
  {
   "cell_type": "code",
   "execution_count": 27,
   "metadata": {},
   "outputs": [
    {
     "name": "stdout",
     "output_type": "stream",
     "text": [
      "min: 0 max:1 shape:(188, 2044, 2042) type:<class 'numpy.ndarray'> \n"
     ]
    }
   ],
   "source": [
    "timepoint = 0\n",
    "\n",
    "# Load 3d data\n",
    "skeleton = np.load(f'output/pvd_skeleton_{timepoint}.npy')  # Load your 3D neuron data\n",
    "\n",
    "# Print descriptives\n",
    "print(f\"min: {np.amin(skeleton)} max:{np.amax(skeleton)} shape:{skeleton.shape} type:{type(skeleton)} \")\n",
    "\n",
    "# Prepare skeleton data for plotting\n",
    "image_stack = np.transpose(skeleton, (1, 2, 0))\n",
    "x, y, z = image_stack.shape\n",
    "Y, X, Z = np.meshgrid(np.arange(y), np.arange(x), np.arange(z))\n",
    "colors = image_stack.ravel()\n",
    "# Extract background points\n",
    "visible_mask = colors != 0"
   ]
  },
  {
   "cell_type": "code",
   "execution_count": 36,
   "metadata": {},
   "outputs": [],
   "source": [
    "# Visualize segments\n",
    "fig = go.Figure(data=all_traces)\n",
    "\n",
    "# Original skeleton structure\n",
    "fig.add_trace(go.Scatter3d(\n",
    "    x=X.ravel()[visible_mask],\n",
    "    y=Y.ravel()[visible_mask],\n",
    "    z=Z.ravel()[visible_mask],\n",
    "    mode='markers',\n",
    "    marker=dict(\n",
    "        size=2,\n",
    "        color='black',\n",
    "        colorscale='Viridis',\n",
    "        opacity=.1\n",
    "    )\n",
    "))\n",
    "\n",
    "fig.update_layout(\n",
    "    title='C. Elegans PVD Neuron',\n",
    "    scene=dict(\n",
    "        xaxis_title='X (pixels)',\n",
    "        yaxis_title='Y (pixels)',\n",
    "        zaxis_title='Z (image index)',\n",
    "        aspectmode='manual',\n",
    "        aspectratio=dict(x=1, y=1, z=.27),  # Adjust z-axis scale if desired\n",
    "        zaxis=dict(range=[0, skeleton.shape[0]]),  # Set z-axis bounds\n",
    "        xaxis=dict(range=[0, skeleton.shape[1]]),  # Set x-axis bounds\n",
    "        yaxis=dict(range=[0, skeleton.shape[2]]),   # Set y-axis bounds\n",
    "\n",
    "    ),\n",
    "    autosize=True\n",
    ")\n",
    "\n",
    "# Save the plot to an HTML file\n",
    "pio.write_html(fig, file=f'plots/matched_segments_preview.html', auto_open=True)"
   ]
  }
 ],
 "metadata": {
  "kernelspec": {
   "display_name": "base",
   "language": "python",
   "name": "python3"
  },
  "language_info": {
   "codemirror_mode": {
    "name": "ipython",
    "version": 3
   },
   "file_extension": ".py",
   "mimetype": "text/x-python",
   "name": "python",
   "nbconvert_exporter": "python",
   "pygments_lexer": "ipython3",
   "version": "3.11.4"
  }
 },
 "nbformat": 4,
 "nbformat_minor": 2
}
